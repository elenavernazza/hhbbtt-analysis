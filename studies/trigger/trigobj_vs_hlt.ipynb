{
 "cells": [
  {
   "cell_type": "code",
   "execution_count": 1,
   "metadata": {},
   "outputs": [],
   "source": [
    "import uproot\n",
    "import awkward as ak\n",
    "import numpy as np\n",
    "import hist\n",
    "import matplotlib.pyplot as plt\n",
    "import mplhep as hep\n",
    "plt.style.use(hep.style.CMS)\n",
    "import os\n",
    "os.environ[\"X509_USER_PROXY\"] = \"/home/llr/cms/cuisset/.t3/proxy.cert\""
   ]
  },
  {
   "cell_type": "code",
   "execution_count": null,
   "metadata": {},
   "outputs": [],
   "source": []
  },
  {
   "cell_type": "code",
   "execution_count": 5,
   "metadata": {},
   "outputs": [
    {
     "data": {
      "text/html": [
       "<pre>[{HLT_DoubleLooseChargedIsoPFTau35_Trk1_TightID_eta2p1_Reg: False, ...},\n",
       " {HLT_DoubleLooseChargedIsoPFTau35_Trk1_TightID_eta2p1_Reg: False, ...},\n",
       " {HLT_DoubleLooseChargedIsoPFTau35_Trk1_TightID_eta2p1_Reg: True, ...},\n",
       " {HLT_DoubleLooseChargedIsoPFTau35_Trk1_TightID_eta2p1_Reg: False, ...},\n",
       " {HLT_DoubleLooseChargedIsoPFTau35_Trk1_TightID_eta2p1_Reg: False, ...},\n",
       " {HLT_DoubleLooseChargedIsoPFTau35_Trk1_TightID_eta2p1_Reg: False, ...},\n",
       " {HLT_DoubleLooseChargedIsoPFTau35_Trk1_TightID_eta2p1_Reg: False, ...},\n",
       " {HLT_DoubleLooseChargedIsoPFTau35_Trk1_TightID_eta2p1_Reg: True, ...},\n",
       " {HLT_DoubleLooseChargedIsoPFTau35_Trk1_TightID_eta2p1_Reg: False, ...},\n",
       " {HLT_DoubleLooseChargedIsoPFTau35_Trk1_TightID_eta2p1_Reg: False, ...},\n",
       " ...,\n",
       " {HLT_DoubleLooseChargedIsoPFTau35_Trk1_TightID_eta2p1_Reg: True, ...},\n",
       " {HLT_DoubleLooseChargedIsoPFTau35_Trk1_TightID_eta2p1_Reg: False, ...},\n",
       " {HLT_DoubleLooseChargedIsoPFTau35_Trk1_TightID_eta2p1_Reg: False, ...},\n",
       " {HLT_DoubleLooseChargedIsoPFTau35_Trk1_TightID_eta2p1_Reg: False, ...},\n",
       " {HLT_DoubleLooseChargedIsoPFTau35_Trk1_TightID_eta2p1_Reg: True, ...},\n",
       " {HLT_DoubleLooseChargedIsoPFTau35_Trk1_TightID_eta2p1_Reg: False, ...},\n",
       " {HLT_DoubleLooseChargedIsoPFTau35_Trk1_TightID_eta2p1_Reg: False, ...},\n",
       " {HLT_DoubleLooseChargedIsoPFTau35_Trk1_TightID_eta2p1_Reg: False, ...},\n",
       " {HLT_DoubleLooseChargedIsoPFTau35_Trk1_TightID_eta2p1_Reg: False, ...}]\n",
       "--------------------------------------------------------------------------------------\n",
       "type: 170736 * {\n",
       "    HLT_DoubleLooseChargedIsoPFTau35_Trk1_TightID_eta2p1_Reg: bool,\n",
       "    HLT_DoubleLooseChargedIsoPFTau35_Trk1_eta2p1_Reg: bool,\n",
       "    HLT_DoubleLooseChargedIsoPFTau40_Trk1_TightID_eta2p1_Reg: bool,\n",
       "    HLT_DoubleLooseChargedIsoPFTau40_Trk1_eta2p1_Reg: bool,\n",
       "    HLT_DoubleMediumChargedIsoPFTau35_Trk1_TightID_eta2p1_Reg: bool,\n",
       "    HLT_DoubleMediumChargedIsoPFTau35_Trk1_eta2p1_Reg: bool,\n",
       "    HLT_DoubleMediumChargedIsoPFTau40_Trk1_TightID_eta2p1_Reg: bool,\n",
       "    HLT_DoubleMediumChargedIsoPFTau40_Trk1_eta2p1_Reg: bool,\n",
       "    HLT_DoubleTightChargedIsoPFTau35_Trk1_TightID_eta2p1_Reg: bool,\n",
       "    HLT_DoubleTightChargedIsoPFTau35_Trk1_eta2p1_Reg: bool,\n",
       "    HLT_DoubleTightChargedIsoPFTau40_Trk1_TightID_eta2p1_Reg: bool,\n",
       "    HLT_DoubleTightChargedIsoPFTau40_Trk1_eta2p1_Reg: bool,\n",
       "    HLT_Ele15_IsoVVVL_PFHT450: bool,\n",
       "    HLT_Ele15_IsoVVVL_PFHT450_CaloBTagCSV_4p5: bool,\n",
       "    HLT_Ele15_IsoVVVL_PFHT450_PFMET50: bool,\n",
       "    HLT_Ele15_IsoVVVL_PFHT600: bool,\n",
       "    HLT_Ele20_WPLoose_Gsf: bool,\n",
       "    HLT_Ele20_WPTight_Gsf: bool,\n",
       "    HLT_Ele20_eta2p1_WPLoose_Gsf: bool,\n",
       "    HLT_Ele24_eta2p1_WPTight_Gsf_LooseChargedIsoPFTau30_eta2p1_CrossL1: bool,\n",
       "    HLT_Ele24_eta2p1_WPTight_Gsf_LooseChargedIsoPFTau30_eta2p1_TightID_CrossL1: bool,\n",
       "    HLT_Ele24_eta2p1_WPTight_Gsf_MediumChargedIsoPFTau30_eta2p1_CrossL1: bool,\n",
       "    HLT_Ele24_eta2p1_WPTight_Gsf_MediumChargedIsoPFTau30_eta2p1_TightID_CrossL1: bool,\n",
       "    HLT_Ele24_eta2p1_WPTight_Gsf_TightChargedIsoPFTau30_eta2p1_CrossL1: bool,\n",
       "    HLT_Ele24_eta2p1_WPTight_Gsf_TightChargedIsoPFTau30_eta2p1_TightID_CrossL1: bool,\n",
       "    HLT_Ele27_WPTight_Gsf: bool,\n",
       "    HLT_Ele28_HighEta_SC20_Mass55: bool,\n",
       "    HLT_Ele28_eta2p1_WPTight_Gsf_HT150: bool,\n",
       "    HLT_Ele32_WPTight_Gsf: bool,\n",
       "    HLT_Ele32_WPTight_Gsf_L1DoubleEG: bool,\n",
       "    HLT_Ele35_WPTight_Gsf: bool,\n",
       "    HLT_Ele35_WPTight_Gsf_L1EGMT: bool,\n",
       "    HLT_Ele38_WPTight_Gsf: bool,\n",
       "    HLT_Ele40_WPTight_Gsf: bool,\n",
       "    HLT_Ele50_IsoVVVL_PFHT450: bool,\n",
       "    HLT_IsoMu20: bool,\n",
       "    HLT_IsoMu20_eta2p1_LooseChargedIsoPFTau27_eta2p1_CrossL1: bool,\n",
       "    HLT_IsoMu20_eta2p1_LooseChargedIsoPFTau27_eta2p1_TightID_CrossL1: bool,\n",
       "    HLT_IsoMu20_eta2p1_MediumChargedIsoPFTau27_eta2p1_CrossL1: bool,\n",
       "    HLT_IsoMu20_eta2p1_MediumChargedIsoPFTau27_eta2p1_TightID_CrossL1: bool,\n",
       "    HLT_IsoMu20_eta2p1_TightChargedIsoPFTau27_eta2p1_CrossL1: bool,\n",
       "    HLT_IsoMu20_eta2p1_TightChargedIsoPFTau27_eta2p1_TightID_CrossL1: bool,\n",
       "    HLT_IsoMu24: bool,\n",
       "    HLT_IsoMu24_eta2p1: bool,\n",
       "    HLT_IsoMu24_eta2p1_LooseChargedIsoPFTau20_SingleL1: bool,\n",
       "    HLT_IsoMu24_eta2p1_LooseChargedIsoPFTau20_TightID_SingleL1: bool,\n",
       "    HLT_IsoMu24_eta2p1_LooseChargedIsoPFTau35_Trk1_TightID_eta2p1_Reg_CrossL1: bool,\n",
       "    HLT_IsoMu24_eta2p1_LooseChargedIsoPFTau35_Trk1_eta2p1_Reg_CrossL1: bool,\n",
       "    HLT_IsoMu24_eta2p1_MediumChargedIsoPFTau20_SingleL1: bool,\n",
       "    HLT_IsoMu24_eta2p1_MediumChargedIsoPFTau20_TightID_SingleL1: bool,\n",
       "    HLT_IsoMu24_eta2p1_MediumChargedIsoPFTau35_Trk1_TightID_eta2p1_Reg_CrossL1: bool,\n",
       "    HLT_IsoMu24_eta2p1_MediumChargedIsoPFTau35_Trk1_eta2p1_Reg_CrossL1: bool,\n",
       "    HLT_IsoMu24_eta2p1_MediumChargedIsoPFTau40_Trk1_TightID_eta2p1_Reg_CrossL1: bool,\n",
       "    HLT_IsoMu24_eta2p1_MediumChargedIsoPFTau40_Trk1_eta2p1_Reg_CrossL1: bool,\n",
       "    HLT_IsoMu24_eta2p1_MediumChargedIsoPFTau50_Trk30_eta2p1_1pr: bool,\n",
       "    HLT_IsoMu24_eta2p1_TightChargedIsoPFTau20_SingleL1: bool,\n",
       "    HLT_IsoMu24_eta2p1_TightChargedIsoPFTau20_TightID_SingleL1: bool,\n",
       "    HLT_IsoMu24_eta2p1_TightChargedIsoPFTau35_Trk1_TightID_eta2p1_Reg_CrossL1: bool,\n",
       "    HLT_IsoMu24_eta2p1_TightChargedIsoPFTau35_Trk1_eta2p1_Reg_CrossL1: bool,\n",
       "    HLT_IsoMu24_eta2p1_TightChargedIsoPFTau40_Trk1_TightID_eta2p1_Reg_CrossL1: bool,\n",
       "    HLT_IsoMu24_eta2p1_TightChargedIsoPFTau40_Trk1_eta2p1_Reg_CrossL1: bool,\n",
       "    HLT_IsoMu27: bool,\n",
       "    HLT_IsoMu27_LooseChargedIsoPFTau20_SingleL1: bool,\n",
       "    HLT_IsoMu27_MediumChargedIsoPFTau20_SingleL1: bool,\n",
       "    HLT_IsoMu27_TightChargedIsoPFTau20_SingleL1: bool,\n",
       "    HLT_IsoMu30: bool,\n",
       "    HLT_MediumChargedIsoPFTau180HighPtRelaxedIso_Trk50_eta2p1: bool,\n",
       "    HLT_MediumChargedIsoPFTau180HighPtRelaxedIso_Trk50_eta2p1_1pr: bool,\n",
       "    HLT_MediumChargedIsoPFTau50_Trk30_eta2p1_1pr: bool,\n",
       "    HLT_MediumChargedIsoPFTau50_Trk30_eta2p1_1pr_MET100: bool,\n",
       "    HLT_MediumChargedIsoPFTau50_Trk30_eta2p1_1pr_MET110: bool,\n",
       "    HLT_MediumChargedIsoPFTau50_Trk30_eta2p1_1pr_MET120: bool,\n",
       "    HLT_MediumChargedIsoPFTau50_Trk30_eta2p1_1pr_MET130: bool,\n",
       "    HLT_MediumChargedIsoPFTau50_Trk30_eta2p1_1pr_MET90: bool,\n",
       "    HLT_Mu10_TrkIsoVVL_DiPFJet40_DEta3p5_MJJ750_HTT350_PFMETNoMu60: bool,\n",
       "    HLT_Mu12_DoublePFJets100_CaloBTagCSV_p33: bool,\n",
       "    HLT_Mu12_DoublePFJets200_CaloBTagCSV_p33: bool,\n",
       "    HLT_Mu12_DoublePFJets350_CaloBTagCSV_p33: bool,\n",
       "    HLT_Mu12_DoublePFJets40MaxDeta1p6_DoubleCaloBTagCSV_p33: bool,\n",
       "    HLT_Mu12_DoublePFJets40_CaloBTagCSV_p33: bool,\n",
       "    HLT_Mu12_DoublePFJets54MaxDeta1p6_DoubleCaloBTagCSV_p33: bool,\n",
       "    HLT_Mu12_DoublePFJets62MaxDeta1p6_DoubleCaloBTagCSV_p33: bool,\n",
       "    HLT_Mu12_DoublePhoton20: bool,\n",
       "    HLT_Mu12_TrkIsoVVL_Ele23_CaloIdL_TrackIdL_IsoVL: bool,\n",
       "    HLT_Mu12_TrkIsoVVL_Ele23_CaloIdL_TrackIdL_IsoVL_DZ: bool,\n",
       "    HLT_Mu15_IsoVVVL_PFHT450: bool,\n",
       "    HLT_Mu15_IsoVVVL_PFHT450_CaloBTagCSV_4p5: bool,\n",
       "    HLT_Mu15_IsoVVVL_PFHT450_PFMET50: bool,\n",
       "    HLT_Mu15_IsoVVVL_PFHT600: bool,\n",
       "    HLT_Mu17: bool,\n",
       "    HLT_Mu17_Photon30_IsoCaloId: bool,\n",
       "    HLT_Mu17_TrkIsoVVL: bool,\n",
       "    HLT_Mu17_TrkIsoVVL_Mu8_TrkIsoVVL: bool,\n",
       "    HLT_Mu17_TrkIsoVVL_Mu8_TrkIsoVVL_DZ: bool,\n",
       "    HLT_Mu17_TrkIsoVVL_Mu8_TrkIsoVVL_DZ_Mass3p8: bool,\n",
       "    HLT_Mu17_TrkIsoVVL_Mu8_TrkIsoVVL_DZ_Mass8: bool,\n",
       "    HLT_Mu18_Mu9: bool,\n",
       "    HLT_Mu18_Mu9_DZ: bool,\n",
       "    HLT_Mu18_Mu9_SameSign: bool,\n",
       "    HLT_Mu18_Mu9_SameSign_DZ: bool,\n",
       "    HLT_Mu19: bool,\n",
       "    HLT_Mu19_TrkIsoVVL: bool,\n",
       "    HLT_Mu19_TrkIsoVVL_Mu9_TrkIsoVVL: bool,\n",
       "    HLT_Mu19_TrkIsoVVL_Mu9_TrkIsoVVL_DZ: bool,\n",
       "    HLT_Mu19_TrkIsoVVL_Mu9_TrkIsoVVL_DZ_Mass3p8: bool,\n",
       "    HLT_Mu19_TrkIsoVVL_Mu9_TrkIsoVVL_DZ_Mass8: bool,\n",
       "    HLT_Mu20: bool,\n",
       "    HLT_Mu20_Mu10: bool,\n",
       "    HLT_Mu20_Mu10_DZ: bool,\n",
       "    HLT_Mu20_Mu10_SameSign: bool,\n",
       "    HLT_Mu20_Mu10_SameSign_DZ: bool,\n",
       "    HLT_Mu20_TkMu0_Phi: bool,\n",
       "    HLT_Mu23_Mu12: bool,\n",
       "    HLT_Mu23_Mu12_DZ: bool,\n",
       "    HLT_Mu23_Mu12_SameSign: bool,\n",
       "    HLT_Mu23_Mu12_SameSign_DZ: bool,\n",
       "    HLT_Mu23_TrkIsoVVL_Ele12_CaloIdL_TrackIdL_IsoVL: bool,\n",
       "    HLT_Mu23_TrkIsoVVL_Ele12_CaloIdL_TrackIdL_IsoVL_DZ: bool,\n",
       "    HLT_Mu25_TkMu0_Onia: bool,\n",
       "    HLT_Mu25_TkMu0_Phi: bool,\n",
       "    HLT_Mu27: bool,\n",
       "    HLT_Mu27_Ele37_CaloIdL_MW: bool,\n",
       "    HLT_Mu30_TkMu0_Onia: bool,\n",
       "    HLT_Mu37_Ele27_CaloIdL_MW: bool,\n",
       "    HLT_Mu37_TkMu27: bool,\n",
       "    HLT_Mu50: bool,\n",
       "    HLT_Mu50_IsoVVVL_PFHT450: bool,\n",
       "    HLT_Mu55: bool,\n",
       "    HLT_OldMu100: bool,\n",
       "    HLT_PFHT1050: bool,\n",
       "    HLT_PFHT180: bool,\n",
       "    HLT_PFHT250: bool,\n",
       "    HLT_PFHT300PT30_QuadPFJet_75_60_45_40: bool,\n",
       "    HLT_PFHT300PT30_QuadPFJet_75_60_45_40_TriplePFBTagCSV_3p0: bool,\n",
       "    HLT_PFHT350: bool,\n",
       "    HLT_PFHT350MinPFJet15: bool,\n",
       "    HLT_PFHT370: bool,\n",
       "    HLT_PFHT380_SixPFJet32: bool,\n",
       "    HLT_PFHT380_SixPFJet32_DoublePFBTagCSV_2p2: bool,\n",
       "    HLT_PFHT380_SixPFJet32_DoublePFBTagDeepCSV_2p2: bool,\n",
       "    HLT_PFHT430: bool,\n",
       "    HLT_PFHT430_SixPFJet40: bool,\n",
       "    HLT_PFHT430_SixPFJet40_PFBTagCSV_1p5: bool,\n",
       "    HLT_PFHT500_PFMET100_PFMHT100_IDTight: bool,\n",
       "    HLT_PFHT500_PFMET110_PFMHT110_IDTight: bool,\n",
       "    HLT_PFHT510: bool,\n",
       "    HLT_PFHT590: bool,\n",
       "    HLT_PFHT680: bool,\n",
       "    HLT_PFHT700_PFMET85_PFMHT85_IDTight: bool,\n",
       "    HLT_PFHT700_PFMET95_PFMHT95_IDTight: bool,\n",
       "    HLT_PFHT780: bool,\n",
       "    HLT_PFHT800_PFMET75_PFMHT75_IDTight: bool,\n",
       "    HLT_PFHT800_PFMET85_PFMHT85_IDTight: bool,\n",
       "    HLT_PFHT890: bool,\n",
       "    HLT_PFMET100_PFMHT100_IDTight_CaloBTagCSV_3p1: bool,\n",
       "    HLT_PFMET100_PFMHT100_IDTight_PFHT60: bool,\n",
       "    HLT_PFMET110_PFMHT110_IDTight: bool,\n",
       "    HLT_PFMET110_PFMHT110_IDTight_CaloBTagCSV_3p1: bool,\n",
       "    HLT_PFMET120_PFMHT120_IDTight: bool,\n",
       "    HLT_PFMET120_PFMHT120_IDTight_CaloBTagCSV_3p1: bool,\n",
       "    HLT_PFMET120_PFMHT120_IDTight_PFHT60: bool,\n",
       "    HLT_PFMET130_PFMHT130_IDTight: bool,\n",
       "    HLT_PFMET130_PFMHT130_IDTight_CaloBTagCSV_3p1: bool,\n",
       "    HLT_PFMET140_PFMHT140_IDTight: bool,\n",
       "    HLT_PFMET140_PFMHT140_IDTight_CaloBTagCSV_3p1: bool,\n",
       "    HLT_PFMET200_HBHECleaned: bool,\n",
       "    HLT_PFMET200_HBHE_BeamHaloCleaned: bool,\n",
       "    HLT_PFMET200_NotCleaned: bool,\n",
       "    HLT_PFMET250_HBHECleaned: bool,\n",
       "    HLT_PFMET300_HBHECleaned: bool,\n",
       "    HLT_PFMETNoMu100_PFMHTNoMu100_IDTight_PFHT60: bool,\n",
       "    HLT_PFMETNoMu110_PFMHTNoMu110_IDTight: bool,\n",
       "    HLT_PFMETNoMu120_PFMHTNoMu120_IDTight: bool,\n",
       "    HLT_PFMETNoMu120_PFMHTNoMu120_IDTight_PFHT60: bool,\n",
       "    HLT_PFMETNoMu130_PFMHTNoMu130_IDTight: bool,\n",
       "    HLT_PFMETNoMu140_PFMHTNoMu140_IDTight: bool,\n",
       "    HLT_PFMETTypeOne100_PFMHT100_IDTight_PFHT60: bool,\n",
       "    HLT_PFMETTypeOne110_PFMHT110_IDTight: bool,\n",
       "    HLT_PFMETTypeOne120_PFMHT120_IDTight: bool,\n",
       "    HLT_PFMETTypeOne120_PFMHT120_IDTight_PFHT60: bool,\n",
       "    HLT_PFMETTypeOne130_PFMHT130_IDTight: bool,\n",
       "    HLT_PFMETTypeOne140_PFMHT140_IDTight: bool,\n",
       "    HLT_PFMETTypeOne200_HBHE_BeamHaloCleaned: bool,\n",
       "    HLT_TkMu100: bool,\n",
       "    HLT_VBF_DoubleLooseChargedIsoPFTau20_Trk1_eta2p1_Reg: bool,\n",
       "    HLT_VBF_DoubleMediumChargedIsoPFTau20_Trk1_eta2p1_Reg: bool,\n",
       "    HLT_VBF_DoubleTightChargedIsoPFTau20_Trk1_eta2p1_Reg: bool,\n",
       "    TrigObj: var * {\n",
       "        eta: float32,\n",
       "        filterBits: int32,\n",
       "        id: uint16,\n",
       "        l1charge: int16,\n",
       "        l1iso: int32,\n",
       "        l1pt: float32,\n",
       "        l1pt_2: float32,\n",
       "        l2pt: float32,\n",
       "        phi: float32,\n",
       "        pt: float32\n",
       "    }\n",
       "}</pre>"
      ],
      "text/plain": [
       "<Array [{...}, {...}, {...}, ..., {...}, {...}] type='170736 * {HLT_DoubleL...'>"
      ]
     },
     "execution_count": 5,
     "metadata": {},
     "output_type": "execute_result"
    }
   ],
   "source": [
    "ar = uproot.concatenate([f\"root://eos.grif.fr///eos/grif/cms/llr/store/user/evernazz/HTT/Run2_2017/ZprimeToZH_ZToBB_HToTauTau_M-600/nanoHTT_{i}_0.root:Events\" for i in set(range(20)).difference([])], filter_name=[\"HLT_*\", \"TrigObj_*\"], how=\"zip\")\n",
    "ar\n",
    "# ar = uproot.concatenate([f\"root://eos.grif.fr///eos/grif/cms/llr/store/user/evernazz/HTT/Run2_2017/ZprimeToZH_ZToBB_HToTauTau_M-600/nanoHTT_{i}_0.root:Events\" for i in range(5)], filter_name=[\"HLT_*\", \"TrigObj_*\"], how=\"zip\")\n",
    "# ar"
   ]
  },
  {
   "cell_type": "code",
   "execution_count": 6,
   "metadata": {},
   "outputs": [],
   "source": [
    "def singlemu_trigger(ar):\n",
    "    \"\"\" Events that pass trig filter bits : return trigObj_id otherwise None\"\"\"\n",
    "    return ak.firsts(ar.TrigObj[(ar.TrigObj.id == 13)  & ((ar.TrigObj.filterBits & 2) > 0) & ((ar.TrigObj.filterBits & 8) > 0)]) "
   ]
  },
  {
   "cell_type": "code",
   "execution_count": 19,
   "metadata": {},
   "outputs": [
    {
     "data": {
      "text/html": [
       "<pre>[{HLT_IsoMu27: False, TrigObj: [{...}, ..., {...}]},\n",
       " {HLT_IsoMu27: False, TrigObj: [{...}, {...}]},\n",
       " {HLT_IsoMu27: True, TrigObj: [{eta: ..., ...}, ...]},\n",
       " {HLT_IsoMu27: True, TrigObj: [{eta: -2, ...}, ...]},\n",
       " {HLT_IsoMu27: True, TrigObj: [{eta: ..., ...}, ...]},\n",
       " {HLT_IsoMu27: True, TrigObj: [{eta: ..., ...}, ...]},\n",
       " {HLT_IsoMu27: True, TrigObj: [{eta: ..., ...}, ...]},\n",
       " {HLT_IsoMu27: True, TrigObj: [{eta: ..., ...}, ...]},\n",
       " {HLT_IsoMu27: True, TrigObj: [{eta: ..., ...}, ...]},\n",
       " {HLT_IsoMu27: True, TrigObj: [{eta: ..., ...}, ...]},\n",
       " ...,\n",
       " {HLT_IsoMu27: True, TrigObj: [{eta: ..., ...}, ...]},\n",
       " {HLT_IsoMu27: True, TrigObj: [{eta: ..., ...}, ...]},\n",
       " {HLT_IsoMu27: True, TrigObj: [{eta: ..., ...}, ...]},\n",
       " {HLT_IsoMu27: True, TrigObj: [{eta: ..., ...}, ...]},\n",
       " {HLT_IsoMu27: True, TrigObj: [{eta: ..., ...}, ...]},\n",
       " {HLT_IsoMu27: False, TrigObj: [{...}, ..., {...}]},\n",
       " {HLT_IsoMu27: False, TrigObj: [{...}, ..., {...}]},\n",
       " {HLT_IsoMu27: True, TrigObj: [{eta: ..., ...}, ...]},\n",
       " {HLT_IsoMu27: True, TrigObj: [{eta: ..., ...}, ...]}]\n",
       "------------------------------------------------------\n",
       "type: 32997 * {\n",
       "    HLT_IsoMu27: bool,\n",
       "    TrigObj: var * {\n",
       "        eta: float32,\n",
       "        filterBits: int32,\n",
       "        id: uint16,\n",
       "        l1charge: int16,\n",
       "        l1iso: int32,\n",
       "        l1pt: float32,\n",
       "        l1pt_2: float32,\n",
       "        l2pt: float32,\n",
       "        phi: float32,\n",
       "        pt: float32\n",
       "    }\n",
       "}</pre>"
      ],
      "text/plain": [
       "<Array [{HLT_IsoMu27: False, ...}, ..., {...}] type='32997 * {HLT_IsoMu27: ...'>"
      ]
     },
     "execution_count": 19,
     "metadata": {},
     "output_type": "execute_result"
    }
   ],
   "source": [
    "any_evt = (~ak.is_none(singlemu_trigger(ar))) | (ar.HLT_IsoMu27)\n",
    "ar[any_evt][[\"HLT_IsoMu27\", \"TrigObj\"]]"
   ]
  },
  {
   "cell_type": "code",
   "execution_count": 7,
   "metadata": {},
   "outputs": [
    {
     "data": {
      "text/plain": [
       "(4082, 2545, 2545)"
      ]
     },
     "execution_count": 7,
     "metadata": {},
     "output_type": "execute_result"
    }
   ],
   "source": [
    "ak.count_nonzero((~ak.is_none(singlemu_trigger(ar))) != ar.HLT_IsoMu27), ak.count_nonzero((~ak.is_none(singlemu_trigger(ar))) != (ar.HLT_IsoMu24 | ar.HLT_IsoMu27)), ak.count_nonzero((~ak.is_none(singlemu_trigger(ar))) != (ar.HLT_IsoMu24))"
   ]
  },
  {
   "cell_type": "code",
   "execution_count": 16,
   "metadata": {},
   "outputs": [
    {
     "data": {
      "text/plain": [
       "44"
      ]
     },
     "execution_count": 16,
     "metadata": {},
     "output_type": "execute_result"
    }
   ],
   "source": [
    "ak.count_nonzero((~ak.is_none(singlemu_trigger(ar))) != (ar.HLT_IsoMu24 | ar.HLT_IsoMu27))"
   ]
  },
  {
   "cell_type": "code",
   "execution_count": 30,
   "metadata": {},
   "outputs": [
    {
     "data": {
      "text/plain": [
       "(865, 0)"
      ]
     },
     "execution_count": 30,
     "metadata": {},
     "output_type": "execute_result"
    }
   ],
   "source": [
    "ak.count_nonzero((~ak.is_none(singlemu_trigger(ar))) &  ~(ar.HLT_IsoMu24 | ar.HLT_IsoMu27)), ak.count_nonzero(~(~ak.is_none(singlemu_trigger(ar))) &  (ar.HLT_IsoMu24 | ar.HLT_IsoMu27))"
   ]
  },
  {
   "cell_type": "code",
   "execution_count": 24,
   "metadata": {},
   "outputs": [
    {
     "data": {
      "text/plain": [
       "0"
      ]
     },
     "execution_count": 24,
     "metadata": {},
     "output_type": "execute_result"
    }
   ],
   "source": [
    "ak.count_nonzero((~ar.HLT_IsoMu24) & (ar.HLT_IsoMu27))"
   ]
  },
  {
   "cell_type": "code",
   "execution_count": 28,
   "metadata": {},
   "outputs": [
    {
     "data": {
      "text/plain": [
       "20.003906"
      ]
     },
     "execution_count": 28,
     "metadata": {},
     "output_type": "execute_result"
    }
   ],
   "source": [
    "ak.min(ak.drop_none(singlemu_trigger(ar).pt))"
   ]
  },
  {
   "cell_type": "code",
   "execution_count": 5,
   "metadata": {},
   "outputs": [
    {
     "data": {
      "text/html": [
       "<pre>[False,\n",
       " False,\n",
       " False,\n",
       " True,\n",
       " False,\n",
       " False,\n",
       " False,\n",
       " False,\n",
       " False,\n",
       " False,\n",
       " ...,\n",
       " False,\n",
       " False,\n",
       " False,\n",
       " True,\n",
       " False,\n",
       " True,\n",
       " True,\n",
       " False,\n",
       " False]\n",
       "-----------------\n",
       "type: 3787 * bool</pre>"
      ],
      "text/plain": [
       "<Array [False, False, False, True, ..., True, False, False] type='3787 * bool'>"
      ]
     },
     "execution_count": 5,
     "metadata": {},
     "output_type": "execute_result"
    }
   ],
   "source": []
  },
  {
   "cell_type": "code",
   "execution_count": null,
   "metadata": {},
   "outputs": [],
   "source": []
  }
 ],
 "metadata": {
  "kernelspec": {
   "display_name": "modules-python-3.11",
   "language": "python",
   "name": "python3"
  },
  "language_info": {
   "codemirror_mode": {
    "name": "ipython",
    "version": 3
   },
   "file_extension": ".py",
   "mimetype": "text/x-python",
   "name": "python",
   "nbconvert_exporter": "python",
   "pygments_lexer": "ipython3",
   "version": "3.11.8"
  }
 },
 "nbformat": 4,
 "nbformat_minor": 2
}
