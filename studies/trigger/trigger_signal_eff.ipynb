{
 "cells": [
  {
   "cell_type": "code",
   "execution_count": 1,
   "metadata": {},
   "outputs": [],
   "source": [
    "import uproot\n",
    "import subprocess\n",
    "import awkward as ak\n",
    "import numpy as np\n",
    "import hist\n",
    "import matplotlib.pyplot as plt\n",
    "import mplhep as hep\n",
    "plt.style.use(hep.style.CMS)"
   ]
  },
  {
   "cell_type": "code",
   "execution_count": 2,
   "metadata": {},
   "outputs": [],
   "source": [
    "hlt_paths_used = [\"HLT_IsoTkMu24\", \n",
    "\"HLT_IsoMu24\", \n",
    "\"HLT_IsoMu27\", \"HLT_IsoMu19_eta2p1_LooseIsoPFTau20_SingleL1\", \n",
    "\"HLT_IsoMu20_eta2p1_LooseChargedIsoPFTau27_eta2p1_CrossL1\", \n",
    "\"HLT_IsoMu20_eta2p1_LooseChargedIsoPFTauHPS27_eta2p1_CrossL1\", \n",
    "\"HLT_Ele25_eta2p1_WPTight_Gsf\", \n",
    "\"HLT_Ele32_WPTight_Gsf\",\n",
    "\"HLT_Ele32_WPTight_Gsf_L1DoubleEG\", \n",
    "\"HLT_Ele24_eta2p1_WPTight_Gsf_LooseChargedIsoPFTau30_eta2p1_CrossL1\", \n",
    "\"HLT_Ele24_eta2p1_WPTight_Gsf_LooseChargedIsoPFTauHPS30_eta2p1_CrossL1\", \n",
    "\"HLT_DoubleMediumIsoPFTau35_Trk1_eta2p1_Reg\", \n",
    "\"HLT_DoubleMediumCombinedIsoPFTau35_Trk1_eta2p1_Reg\", \n",
    "\"HLT_DoubleMediumChargedIsoPFTau40_Trk1_TightID_eta2p1_Reg\", \n",
    "\"HLT_DoubleTightChargedIsoPFTau40_Trk1_eta2p1_Reg\",\n",
    "\"HLT_DoubleMediumChargedIsoPFTauHPS35_Trk1_eta2p1_Reg\", \n",
    "\"HLT_DoubleMediumDeepTauPFTauHPS35_L2NN_eta2p1\"]\n",
    "needed_branches = hlt_paths_used + [\"GenPart_pdgId\", \"GenPart_genPartIdxMother\", \"GenPart_eta\", \"GenPart_pt\", \"nGenVisTau\", \"GenVisTau_pt\", \"GenVisTau_eta\"]\n",
    "zz_signal_das = \"/ZZTo2Q2L_mllmin4p0_TuneCP5_13TeV-amcatnloFXFX-pythia8/RunIISummer20UL18NanoAODv9-106X_upgrade2018_realistic_v16_L1v1-v1/NANOAODSIM\"\n",
    "zbb_htt_signal_das = \"/ZHToTauTau_M125_CP5_13TeV-powheg-pythia8/RunIISummer20UL18NanoAODv9-106X_upgrade2018_realistic_v16_L1v1-v2/NANOAODSIM\"\n",
    "ztt_hbb_signal_das = \"/ZH_HToBB_ZToLL_M-125_TuneCP5_13TeV-powheg-pythia8/RunIISummer20UL18NanoAODv9-106X_upgrade2018_realistic_v16_L1v1-v1/NANOAODSIM\""
   ]
  },
  {
   "cell_type": "code",
   "execution_count": 3,
   "metadata": {},
   "outputs": [],
   "source": [
    "def getFilesForDas(dataset_das):\n",
    "    res = subprocess.run([\"dasgoclient\", \"-query\", \"file dataset=\" + dataset_das], capture_output=True, text=True, check=True)\n",
    "    return [\"root://xrootd-cms.infn.it//\" + path for path in res.stdout.split(\"\\n\")]\n",
    "def concatFiles(paths):\n",
    "    ars = []\n",
    "    for path in paths:\n",
    "        try:\n",
    "            ars.append(uproot.open(path, timeout=15).arrays(filter_name=needed_branches, how=\"zip\"))\n",
    "        except OSError as e:\n",
    "            print(e)\n",
    "    return ak.concatenate(ars)\n",
    "def filter_ZToBB(ar):\n",
    "    return ak.any((abs(ar.GenPart.pdgId) == 5) & (abs(ar.GenPart[ar.GenPart.genPartIdxMother].pdgId) == 23), axis=-1) # b decaying from Z\n",
    "def filter_ZToTauTau(ar):\n",
    "    return ak.any((abs(ar.GenPart.pdgId) == 15) & (abs(ar.GenPart[ar.GenPart.genPartIdxMother].pdgId) == 23), axis=-1) # tau decaying from Z\n",
    "def filter_ZToBB_ZToTauTau(ar):\n",
    "    # tau decaying from Z & b decaying from Z\n",
    "    return ak.any((abs(ar.GenPart.pdgId) == 15) & (abs(ar.GenPart[ar.GenPart.genPartIdxMother].pdgId) == 23), axis=-1) & ak.any((abs(ar.GenPart.pdgId) == 5) & (abs(ar.GenPart[ar.GenPart.genPartIdxMother].pdgId) == 23), axis=-1) \n",
    "def genPairType_branch(ar):\n",
    "    \"\"\" select etau, mutau, tautau at genlevel\"\"\"\n",
    "    tautau = ar.nGenVisTau == 2\n",
    "\n",
    "    mutau_genMuon_bool = (abs(ar.GenPart.pdgId) == 13) & (abs(ar.GenPart[ar.GenPart.genPartIdxMother].pdgId) == 15)\n",
    "    mutau_genMuon_idx = ak.firsts(ak.local_index(ar.GenPart)[mutau_genMuon_bool]) # index of gen muon in GenPart collection\n",
    "    mutau = (ar.nGenVisTau == 1) & ak.any(mutau_genMuon_bool, axis=-1)\n",
    "    \n",
    "    etau_genMuon_bool = (abs(ar.GenPart.pdgId) == 11) & (abs(ar.GenPart[ar.GenPart.genPartIdxMother].pdgId) == 15)\n",
    "    etau_genMuon_idx = ak.firsts(ak.local_index(ar.GenPart)[etau_genMuon_bool]) # index of gen muon in GenPart collection\n",
    "    etau = (ar.nGenVisTau == 1) & ak.any(etau_genMuon_bool, axis=-1)\n",
    "    \n",
    "    genPairType =  ak.where(mutau, 0, ak.where(etau, 1, ak.where(tautau, 2, -1)))\n",
    "    genLeptonIdx = ak.where(mutau, mutau_genMuon_idx, etau_genMuon_idx) # for tautau will just put None\n",
    "    return ak.with_field(ak.with_field(ar, genPairType, where=\"genPairType\"), genLeptonIdx, \"genLeptonIdx\")"
   ]
  },
  {
   "cell_type": "code",
   "execution_count": 5,
   "metadata": {},
   "outputs": [
    {
     "name": "stdout",
     "output_type": "stream",
     "text": [
      "File stat request failed: [ERROR] Server responded with an error: [3010] Unable to locate /store/mc/RunIISummer20UL18NanoAODv9/ZHToTauTau_M125_CP5_13TeV-powheg-pythia8/NANOAODSIM/106X_upgrade2018_realistic_v16_L1v1-v2/50000/67CB0663-4BFE-DA41-BA3C-6AC80E8F60D9.root; permission denied\n",
      "\n",
      "File stat request failed: [ERROR] Server responded with an error: [3010] Unable to locate /store/mc/RunIISummer20UL18NanoAODv9/ZHToTauTau_M125_CP5_13TeV-powheg-pythia8/NANOAODSIM/106X_upgrade2018_realistic_v16_L1v1-v2/40000/9714A31C-6A35-DD44-96D5-89312CCB1796.root; permission denied\n",
      "\n"
     ]
    },
    {
     "ename": "ValueError",
     "evalue": "need at least one array to concatenate",
     "output_type": "error",
     "traceback": [
      "\u001b[0;31m---------------------------------------------------------------------------\u001b[0m",
      "\u001b[0;31mValueError\u001b[0m                                Traceback (most recent call last)",
      "Cell \u001b[0;32mIn[5], line 1\u001b[0m\n\u001b[0;32m----> 1\u001b[0m zbb_htt_signal \u001b[38;5;241m=\u001b[39m \u001b[43mconcatFiles\u001b[49m\u001b[43m(\u001b[49m\u001b[43m[\u001b[49m\u001b[43mpath\u001b[49m\u001b[43m \u001b[49m\u001b[38;5;241;43m+\u001b[39;49m\u001b[43m \u001b[49m\u001b[38;5;124;43m\"\u001b[39;49m\u001b[38;5;124;43m:Events\u001b[39;49m\u001b[38;5;124;43m\"\u001b[39;49m\u001b[43m \u001b[49m\u001b[38;5;28;43;01mfor\u001b[39;49;00m\u001b[43m \u001b[49m\u001b[43mpath\u001b[49m\u001b[43m \u001b[49m\u001b[38;5;129;43;01min\u001b[39;49;00m\u001b[43m \u001b[49m\u001b[43mgetFilesForDas\u001b[49m\u001b[43m(\u001b[49m\u001b[43mzbb_htt_signal_das\u001b[49m\u001b[43m)\u001b[49m\u001b[43m[\u001b[49m\u001b[43m:\u001b[49m\u001b[38;5;241;43m2\u001b[39;49m\u001b[43m]\u001b[49m\u001b[43m]\u001b[49m\u001b[43m)\u001b[49m\n\u001b[1;32m      2\u001b[0m zbb_htt_signal \u001b[38;5;241m=\u001b[39m genPairType_branch(zbb_htt_signal[filter_ZToBB(zbb_htt_signal)])\n\u001b[1;32m      3\u001b[0m zbb_htt_signal\n",
      "Cell \u001b[0;32mIn[3], line 11\u001b[0m, in \u001b[0;36mconcatFiles\u001b[0;34m(paths)\u001b[0m\n\u001b[1;32m      9\u001b[0m     \u001b[38;5;28;01mexcept\u001b[39;00m \u001b[38;5;167;01mOSError\u001b[39;00m \u001b[38;5;28;01mas\u001b[39;00m e:\n\u001b[1;32m     10\u001b[0m         \u001b[38;5;28mprint\u001b[39m(e)\n\u001b[0;32m---> 11\u001b[0m \u001b[38;5;28;01mreturn\u001b[39;00m \u001b[43mak\u001b[49m\u001b[38;5;241;43m.\u001b[39;49m\u001b[43mconcatenate\u001b[49m\u001b[43m(\u001b[49m\u001b[43mars\u001b[49m\u001b[43m)\u001b[49m\n",
      "File \u001b[0;32m/opt/exp_soft/llr/python/3.11.8/el7/lib/python3.11/site-packages/awkward/_dispatch.py:62\u001b[0m, in \u001b[0;36mnamed_high_level_function.<locals>.dispatch\u001b[0;34m(*args, **kwargs)\u001b[0m\n\u001b[1;32m     60\u001b[0m \u001b[38;5;66;03m# Failed to find a custom overload, so resume the original function\u001b[39;00m\n\u001b[1;32m     61\u001b[0m \u001b[38;5;28;01mtry\u001b[39;00m:\n\u001b[0;32m---> 62\u001b[0m     \u001b[38;5;28;43mnext\u001b[39;49m\u001b[43m(\u001b[49m\u001b[43mgen_or_result\u001b[49m\u001b[43m)\u001b[49m\n\u001b[1;32m     63\u001b[0m \u001b[38;5;28;01mexcept\u001b[39;00m \u001b[38;5;167;01mStopIteration\u001b[39;00m \u001b[38;5;28;01mas\u001b[39;00m err:\n\u001b[1;32m     64\u001b[0m     \u001b[38;5;28;01mreturn\u001b[39;00m err\u001b[38;5;241m.\u001b[39mvalue\n",
      "File \u001b[0;32m/opt/exp_soft/llr/python/3.11.8/el7/lib/python3.11/site-packages/awkward/operations/ak_concatenate.py:66\u001b[0m, in \u001b[0;36mconcatenate\u001b[0;34m(arrays, axis, mergebool, highlevel, behavior, attrs)\u001b[0m\n\u001b[1;32m     63\u001b[0m     \u001b[38;5;28;01myield\u001b[39;00m arrays\n\u001b[1;32m     65\u001b[0m \u001b[38;5;66;03m# Implementation\u001b[39;00m\n\u001b[0;32m---> 66\u001b[0m \u001b[38;5;28;01mreturn\u001b[39;00m \u001b[43m_impl\u001b[49m\u001b[43m(\u001b[49m\u001b[43marrays\u001b[49m\u001b[43m,\u001b[49m\u001b[43m \u001b[49m\u001b[43maxis\u001b[49m\u001b[43m,\u001b[49m\u001b[43m \u001b[49m\u001b[43mmergebool\u001b[49m\u001b[43m,\u001b[49m\u001b[43m \u001b[49m\u001b[43mhighlevel\u001b[49m\u001b[43m,\u001b[49m\u001b[43m \u001b[49m\u001b[43mbehavior\u001b[49m\u001b[43m,\u001b[49m\u001b[43m \u001b[49m\u001b[43mattrs\u001b[49m\u001b[43m)\u001b[49m\n",
      "File \u001b[0;32m/opt/exp_soft/llr/python/3.11.8/el7/lib/python3.11/site-packages/awkward/operations/ak_concatenate.py:128\u001b[0m, in \u001b[0;36m_impl\u001b[0;34m(arrays, axis, mergebool, highlevel, behavior, attrs)\u001b[0m\n\u001b[1;32m    126\u001b[0m contents \u001b[38;5;241m=\u001b[39m [x \u001b[38;5;28;01mfor\u001b[39;00m x \u001b[38;5;129;01min\u001b[39;00m content_or_others \u001b[38;5;28;01mif\u001b[39;00m \u001b[38;5;28misinstance\u001b[39m(x, ak\u001b[38;5;241m.\u001b[39mcontents\u001b[38;5;241m.\u001b[39mContent)]\n\u001b[1;32m    127\u001b[0m \u001b[38;5;28;01mif\u001b[39;00m \u001b[38;5;28mlen\u001b[39m(contents) \u001b[38;5;241m==\u001b[39m \u001b[38;5;241m0\u001b[39m:\n\u001b[0;32m--> 128\u001b[0m     \u001b[38;5;28;01mraise\u001b[39;00m \u001b[38;5;167;01mValueError\u001b[39;00m(\u001b[38;5;124m\"\u001b[39m\u001b[38;5;124mneed at least one array to concatenate\u001b[39m\u001b[38;5;124m\"\u001b[39m)\n\u001b[1;32m    130\u001b[0m posaxis \u001b[38;5;241m=\u001b[39m maybe_posaxis(contents[\u001b[38;5;241m0\u001b[39m], axis, \u001b[38;5;241m1\u001b[39m)\n\u001b[1;32m    131\u001b[0m maxdepth \u001b[38;5;241m=\u001b[39m \u001b[38;5;28mmax\u001b[39m(\n\u001b[1;32m    132\u001b[0m     x\u001b[38;5;241m.\u001b[39mminmax_depth[\u001b[38;5;241m1\u001b[39m]\n\u001b[1;32m    133\u001b[0m     \u001b[38;5;28;01mfor\u001b[39;00m x \u001b[38;5;129;01min\u001b[39;00m content_or_others\n\u001b[1;32m    134\u001b[0m     \u001b[38;5;28;01mif\u001b[39;00m \u001b[38;5;28misinstance\u001b[39m(x, ak\u001b[38;5;241m.\u001b[39mcontents\u001b[38;5;241m.\u001b[39mContent)\n\u001b[1;32m    135\u001b[0m )\n",
      "\u001b[0;31mValueError\u001b[0m: need at least one array to concatenate",
      "\u001b[0m\nThis error occurred while calling\n\n    ak.concatenate(\n        []\n    )"
     ]
    }
   ],
   "source": [
    "zbb_htt_signal = concatFiles([path + \":Events\" for path in getFilesForDas(zbb_htt_signal_das)[:2]])\n",
    "zbb_htt_signal = genPairType_branch(zbb_htt_signal[filter_ZToBB(zbb_htt_signal)])\n",
    "zbb_htt_signal"
   ]
  },
  {
   "cell_type": "code",
   "execution_count": 5,
   "metadata": {},
   "outputs": [
    {
     "ename": "KeyboardInterrupt",
     "evalue": "",
     "output_type": "error",
     "traceback": [
      "\u001b[0;31m---------------------------------------------------------------------------\u001b[0m",
      "\u001b[0;31mKeyboardInterrupt\u001b[0m                         Traceback (most recent call last)",
      "Cell \u001b[0;32mIn[5], line 1\u001b[0m\n\u001b[0;32m----> 1\u001b[0m ztt_hbb_signal \u001b[38;5;241m=\u001b[39m \u001b[43mconcatFiles\u001b[49m\u001b[43m(\u001b[49m\u001b[43m[\u001b[49m\u001b[43mpath\u001b[49m\u001b[43m \u001b[49m\u001b[38;5;241;43m+\u001b[39;49m\u001b[43m \u001b[49m\u001b[38;5;124;43m\"\u001b[39;49m\u001b[38;5;124;43m:Events\u001b[39;49m\u001b[38;5;124;43m\"\u001b[39;49m\u001b[43m \u001b[49m\u001b[38;5;28;43;01mfor\u001b[39;49;00m\u001b[43m \u001b[49m\u001b[43mpath\u001b[49m\u001b[43m \u001b[49m\u001b[38;5;129;43;01min\u001b[39;49;00m\u001b[43m \u001b[49m\u001b[43mgetFilesForDas\u001b[49m\u001b[43m(\u001b[49m\u001b[43mztt_hbb_signal_das\u001b[49m\u001b[43m)\u001b[49m\u001b[43m[\u001b[49m\u001b[43m:\u001b[49m\u001b[38;5;241;43m10\u001b[39;49m\u001b[43m]\u001b[49m\u001b[43m]\u001b[49m\u001b[43m)\u001b[49m\n\u001b[1;32m      2\u001b[0m ztt_hbb_signal \u001b[38;5;241m=\u001b[39m genPairType_branch(ztt_hbb_signal[filter_ZToTauTau(ztt_hbb_signal)])\n",
      "Cell \u001b[0;32mIn[3], line 8\u001b[0m, in \u001b[0;36mconcatFiles\u001b[0;34m(paths)\u001b[0m\n\u001b[1;32m      6\u001b[0m \u001b[38;5;28;01mfor\u001b[39;00m path \u001b[38;5;129;01min\u001b[39;00m paths:\n\u001b[1;32m      7\u001b[0m     \u001b[38;5;28;01mtry\u001b[39;00m:\n\u001b[0;32m----> 8\u001b[0m         ars\u001b[38;5;241m.\u001b[39mappend(\u001b[43muproot\u001b[49m\u001b[38;5;241;43m.\u001b[39;49m\u001b[43mopen\u001b[49m\u001b[43m(\u001b[49m\u001b[43mpath\u001b[49m\u001b[43m,\u001b[49m\u001b[43m \u001b[49m\u001b[43mtimeout\u001b[49m\u001b[38;5;241;43m=\u001b[39;49m\u001b[38;5;241;43m15\u001b[39;49m\u001b[43m)\u001b[49m\u001b[38;5;241;43m.\u001b[39;49m\u001b[43marrays\u001b[49m\u001b[43m(\u001b[49m\u001b[43mfilter_name\u001b[49m\u001b[38;5;241;43m=\u001b[39;49m\u001b[43mneeded_branches\u001b[49m\u001b[43m,\u001b[49m\u001b[43m \u001b[49m\u001b[43mhow\u001b[49m\u001b[38;5;241;43m=\u001b[39;49m\u001b[38;5;124;43m\"\u001b[39;49m\u001b[38;5;124;43mzip\u001b[39;49m\u001b[38;5;124;43m\"\u001b[39;49m\u001b[43m)\u001b[49m)\n\u001b[1;32m      9\u001b[0m     \u001b[38;5;28;01mexcept\u001b[39;00m \u001b[38;5;167;01mOSError\u001b[39;00m \u001b[38;5;28;01mas\u001b[39;00m e:\n\u001b[1;32m     10\u001b[0m         \u001b[38;5;28mprint\u001b[39m(e)\n",
      "File \u001b[0;32m/opt/exp_soft/llr/python/3.11.8/el7/lib/python3.11/site-packages/uproot/behaviors/TBranch.py:833\u001b[0m, in \u001b[0;36mHasBranches.arrays\u001b[0;34m(self, expressions, cut, filter_name, filter_typename, filter_branch, aliases, language, entry_start, entry_stop, decompression_executor, interpretation_executor, array_cache, library, ak_add_doc, how)\u001b[0m\n\u001b[1;32m    830\u001b[0m                 ranges_or_baskets\u001b[38;5;241m.\u001b[39mappend((branch, basket_num, range_or_basket))\n\u001b[1;32m    832\u001b[0m interp_options \u001b[38;5;241m=\u001b[39m {\u001b[38;5;124m\"\u001b[39m\u001b[38;5;124mak_add_doc\u001b[39m\u001b[38;5;124m\"\u001b[39m: ak_add_doc}\n\u001b[0;32m--> 833\u001b[0m \u001b[43m_ranges_or_baskets_to_arrays\u001b[49m\u001b[43m(\u001b[49m\n\u001b[1;32m    834\u001b[0m \u001b[43m    \u001b[49m\u001b[38;5;28;43mself\u001b[39;49m\u001b[43m,\u001b[49m\n\u001b[1;32m    835\u001b[0m \u001b[43m    \u001b[49m\u001b[43mranges_or_baskets\u001b[49m\u001b[43m,\u001b[49m\n\u001b[1;32m    836\u001b[0m \u001b[43m    \u001b[49m\u001b[43mbranchid_interpretation\u001b[49m\u001b[43m,\u001b[49m\n\u001b[1;32m    837\u001b[0m \u001b[43m    \u001b[49m\u001b[43mentry_start\u001b[49m\u001b[43m,\u001b[49m\n\u001b[1;32m    838\u001b[0m \u001b[43m    \u001b[49m\u001b[43mentry_stop\u001b[49m\u001b[43m,\u001b[49m\n\u001b[1;32m    839\u001b[0m \u001b[43m    \u001b[49m\u001b[43mdecompression_executor\u001b[49m\u001b[43m,\u001b[49m\n\u001b[1;32m    840\u001b[0m \u001b[43m    \u001b[49m\u001b[43minterpretation_executor\u001b[49m\u001b[43m,\u001b[49m\n\u001b[1;32m    841\u001b[0m \u001b[43m    \u001b[49m\u001b[43mlibrary\u001b[49m\u001b[43m,\u001b[49m\n\u001b[1;32m    842\u001b[0m \u001b[43m    \u001b[49m\u001b[43marrays\u001b[49m\u001b[43m,\u001b[49m\n\u001b[1;32m    843\u001b[0m \u001b[43m    \u001b[49m\u001b[38;5;28;43;01mFalse\u001b[39;49;00m\u001b[43m,\u001b[49m\n\u001b[1;32m    844\u001b[0m \u001b[43m    \u001b[49m\u001b[43minterp_options\u001b[49m\u001b[43m,\u001b[49m\n\u001b[1;32m    845\u001b[0m \u001b[43m\u001b[49m\u001b[43m)\u001b[49m\n\u001b[1;32m    847\u001b[0m \u001b[38;5;66;03m# no longer needed; save memory\u001b[39;00m\n\u001b[1;32m    848\u001b[0m \u001b[38;5;28;01mdel\u001b[39;00m ranges_or_baskets\n",
      "File \u001b[0;32m/opt/exp_soft/llr/python/3.11.8/el7/lib/python3.11/site-packages/uproot/behaviors/TBranch.py:3130\u001b[0m, in \u001b[0;36m_ranges_or_baskets_to_arrays\u001b[0;34m(hasbranches, ranges_or_baskets, branchid_interpretation, entry_start, entry_stop, decompression_executor, interpretation_executor, library, arrays, update_ranges_or_baskets, interp_options)\u001b[0m\n\u001b[1;32m   3127\u001b[0m         notifications\u001b[38;5;241m.\u001b[39mput(\u001b[38;5;28;01mNone\u001b[39;00m)\n\u001b[1;32m   3129\u001b[0m \u001b[38;5;28;01mwhile\u001b[39;00m \u001b[38;5;28mlen\u001b[39m(arrays) \u001b[38;5;241m<\u001b[39m \u001b[38;5;28mlen\u001b[39m(branchid_interpretation):\n\u001b[0;32m-> 3130\u001b[0m     obj \u001b[38;5;241m=\u001b[39m \u001b[43mnotifications\u001b[49m\u001b[38;5;241;43m.\u001b[39;49m\u001b[43mget\u001b[49m\u001b[43m(\u001b[49m\u001b[43m)\u001b[49m\n\u001b[1;32m   3132\u001b[0m     \u001b[38;5;28;01mif\u001b[39;00m \u001b[38;5;28misinstance\u001b[39m(obj, uproot\u001b[38;5;241m.\u001b[39msource\u001b[38;5;241m.\u001b[39mchunk\u001b[38;5;241m.\u001b[39mChunk):\n\u001b[1;32m   3133\u001b[0m         args \u001b[38;5;241m=\u001b[39m range_args[(obj\u001b[38;5;241m.\u001b[39mstart, obj\u001b[38;5;241m.\u001b[39mstop)]\n",
      "File \u001b[0;32m/opt/exp_soft/llr/python/3.11.6/el7/lib/python3.11/queue.py:171\u001b[0m, in \u001b[0;36mQueue.get\u001b[0;34m(self, block, timeout)\u001b[0m\n\u001b[1;32m    169\u001b[0m \u001b[38;5;28;01melif\u001b[39;00m timeout \u001b[38;5;129;01mis\u001b[39;00m \u001b[38;5;28;01mNone\u001b[39;00m:\n\u001b[1;32m    170\u001b[0m     \u001b[38;5;28;01mwhile\u001b[39;00m \u001b[38;5;129;01mnot\u001b[39;00m \u001b[38;5;28mself\u001b[39m\u001b[38;5;241m.\u001b[39m_qsize():\n\u001b[0;32m--> 171\u001b[0m         \u001b[38;5;28;43mself\u001b[39;49m\u001b[38;5;241;43m.\u001b[39;49m\u001b[43mnot_empty\u001b[49m\u001b[38;5;241;43m.\u001b[39;49m\u001b[43mwait\u001b[49m\u001b[43m(\u001b[49m\u001b[43m)\u001b[49m\n\u001b[1;32m    172\u001b[0m \u001b[38;5;28;01melif\u001b[39;00m timeout \u001b[38;5;241m<\u001b[39m \u001b[38;5;241m0\u001b[39m:\n\u001b[1;32m    173\u001b[0m     \u001b[38;5;28;01mraise\u001b[39;00m \u001b[38;5;167;01mValueError\u001b[39;00m(\u001b[38;5;124m\"\u001b[39m\u001b[38;5;124m'\u001b[39m\u001b[38;5;124mtimeout\u001b[39m\u001b[38;5;124m'\u001b[39m\u001b[38;5;124m must be a non-negative number\u001b[39m\u001b[38;5;124m\"\u001b[39m)\n",
      "File \u001b[0;32m/opt/exp_soft/llr/python/3.11.6/el7/lib/python3.11/threading.py:327\u001b[0m, in \u001b[0;36mCondition.wait\u001b[0;34m(self, timeout)\u001b[0m\n\u001b[1;32m    325\u001b[0m \u001b[38;5;28;01mtry\u001b[39;00m:    \u001b[38;5;66;03m# restore state no matter what (e.g., KeyboardInterrupt)\u001b[39;00m\n\u001b[1;32m    326\u001b[0m     \u001b[38;5;28;01mif\u001b[39;00m timeout \u001b[38;5;129;01mis\u001b[39;00m \u001b[38;5;28;01mNone\u001b[39;00m:\n\u001b[0;32m--> 327\u001b[0m         \u001b[43mwaiter\u001b[49m\u001b[38;5;241;43m.\u001b[39;49m\u001b[43macquire\u001b[49m\u001b[43m(\u001b[49m\u001b[43m)\u001b[49m\n\u001b[1;32m    328\u001b[0m         gotit \u001b[38;5;241m=\u001b[39m \u001b[38;5;28;01mTrue\u001b[39;00m\n\u001b[1;32m    329\u001b[0m     \u001b[38;5;28;01melse\u001b[39;00m:\n",
      "\u001b[0;31mKeyboardInterrupt\u001b[0m: "
     ]
    }
   ],
   "source": [
    "ztt_hbb_signal = concatFiles([path + \":Events\" for path in getFilesForDas(ztt_hbb_signal_das)[:10]])\n",
    "ztt_hbb_signal = genPairType_branch(ztt_hbb_signal[filter_ZToTauTau(ztt_hbb_signal)])"
   ]
  },
  {
   "cell_type": "code",
   "execution_count": null,
   "metadata": {},
   "outputs": [
    {
     "name": "stdout",
     "output_type": "stream",
     "text": [
      "Bytes failed to read from open file: [ERROR] Operation expired\n",
      "Bytes failed to read from open file: [ERROR] Operation expired\n",
      "Bytes failed to read from open file: [ERROR] Operation expired\n",
      "Bytes failed to read from open file: [ERROR] Operation expired\n",
      "Bytes failed to read from open file: [ERROR] Operation expired\n",
      "Bytes failed to read from open file: [ERROR] Operation expired\n",
      "File did not open properly: [ERROR] Operation expired\n",
      "Bytes failed to read from open file: [ERROR] Operation expired\n",
      "Bytes failed to read from open file: [ERROR] Operation expired\n"
     ]
    }
   ],
   "source": [
    "zz_signal = concatFiles([path + \":Events\" for path in getFilesForDas(zz_signal_das)[:10]])\n",
    "zz_signal = genPairType_branch(zz_signal[filter_ZToBB_ZToTauTau(zz_signal)])"
   ]
  },
  {
   "cell_type": "code",
   "execution_count": 6,
   "metadata": {},
   "outputs": [],
   "source": [
    "def eff(branch_num, filter_denom):\n",
    "    return ak.count_nonzero(branch_num) / ak.count_nonzero(filter_denom)\n",
    "\n",
    "def getAvailHLT(ar):\n",
    "    return [f for f in ar.fields if f.startswith(\"HLT_\")]\n",
    "def printEffs(ar):\n",
    "    paths = getAvailHLT(ar)\n",
    "    for path in paths:\n",
    "        print(f\"{path} : {ak.count_nonzero(ar[path])/len(ar):.1%}\")\n",
    "def filterEvents_singleLepton(ar, genPairType, pt_cut, eta_cut):\n",
    "    \"\"\" filter events for lepton triggers, putslk (<- Marina Maroni here) a cut on gen muon/electron\"\"\"\n",
    "    filter_genPairType = ar.genPairType == genPairType\n",
    "    gen_leptons = ak.firsts(ar.GenPart[ak.singletons(ar.genLeptonIdx)])\n",
    "    # fill_none for cases where no gen lepton (ie tautau)\n",
    "    return ak.fill_none(filter_genPairType & (gen_leptons.pt >= pt_cut) & (gen_leptons.eta <= eta_cut), False)\n",
    "def filterEvents_cross(ar, genPairType, pt_cut_lepton, eta_cut_lepton, pt_cut_tau, eta_cut_tau):\n",
    "    filter_genPairType = ar.genPairType == genPairType\n",
    "    gen_leptons = ak.firsts(ar.GenPart[ak.singletons(ar.genLeptonIdx)])\n",
    "    gen_taus = ak.firsts(ar.GenVisTau)\n",
    "    # fill_none for cases where no gen lepton (ie tautau)\n",
    "    return ak.fill_none(filter_genPairType & (gen_leptons.pt >= pt_cut_lepton) & (gen_leptons.eta <= eta_cut_lepton) & (gen_taus.pt >= pt_cut_tau) & (gen_taus.eta <= eta_cut_tau), False)\n",
    "def filterEvents_diTau(ar, pt_cut, eta_cut):\n",
    "    filter_genPairType = ar.genPairType == 2\n",
    "    genVisTau_pt_padded = ak.pad_none(ar.GenVisTau.pt, 2)\n",
    "    genVisTau_eta_padded = ak.pad_none(ar.GenVisTau.eta, 2)\n",
    "    return filter_genPairType & (genVisTau_pt_padded[:, 0] >= pt_cut) & (genVisTau_pt_padded[:, 1] >= pt_cut) & (genVisTau_eta_padded[:, 0] <= eta_cut) & (genVisTau_eta_padded[:, 1] <= eta_cut)"
   ]
  },
  {
   "cell_type": "code",
   "execution_count": 7,
   "metadata": {},
   "outputs": [],
   "source": [
    "def printEffs_mutau(signal):\n",
    "    base_filter_mutau = filterEvents_singleLepton(signal, 0, 20, 2.4)\n",
    "    print(f\"Baseline eff {eff(base_filter_mutau, signal.genPairType == 0):.1%}\")\n",
    "    print(f\"Single-mu eff {eff(signal[base_filter_mutau].HLT_IsoMu24, base_filter_mutau):.1%}\")\n",
    "    print(f\"Cross-mu eff {eff(signal[base_filter_mutau].HLT_IsoMu20_eta2p1_LooseChargedIsoPFTauHPS27_eta2p1_CrossL1, base_filter_mutau):.1%}\")\n",
    "    print(f\"Full OR eff {eff(signal[base_filter_mutau].HLT_IsoMu24|signal[base_filter_mutau].HLT_IsoMu20_eta2p1_LooseChargedIsoPFTauHPS27_eta2p1_CrossL1, base_filter_mutau):.1%}\")\n",
    "    # print(f\"Cross-mu eff {eff(zbb_htt_signal[base_filter_mutau].HLT_IsoMu20_eta2p1_LooseChargedIsoPFTauHPS27_eta2p1_CrossL1, base_filter_mutau):.1%}\")\n",
    "def printEffs_etau(signal):\n",
    "    base_filter_etau = filterEvents_singleLepton(signal, 1, 24, 2.5)\n",
    "    print(f\"Baseline eff {eff(base_filter_etau, signal.genPairType == 1):.1%}\")\n",
    "    print(f\"Single-e eff {eff(signal[base_filter_etau].HLT_Ele32_WPTight_Gsf, base_filter_etau):.1%}\")\n",
    "    print(f\"Cross-e eff {eff(signal[base_filter_etau].HLT_Ele24_eta2p1_WPTight_Gsf_LooseChargedIsoPFTauHPS30_eta2p1_CrossL1, base_filter_etau):.1%}\")\n",
    "    print(f\"Full OR eff {eff(signal[base_filter_etau].HLT_Ele32_WPTight_Gsf|signal[base_filter_etau].HLT_Ele24_eta2p1_WPTight_Gsf_LooseChargedIsoPFTauHPS30_eta2p1_CrossL1, base_filter_etau):.1%}\")\n",
    "def printEffs_tautau(signal):\n",
    "    base_filter_tautau = filterEvents_diTau(signal, 35, 2.1)\n",
    "    print(f\"Baseline eff {eff(base_filter_tautau, signal.genPairType == 2):.1%}\")\n",
    "    print(f\"Ditau eff {eff(signal[base_filter_tautau].HLT_DoubleMediumChargedIsoPFTauHPS35_Trk1_eta2p1_Reg, base_filter_tautau):.1%}\")\n"
   ]
  },
  {
   "cell_type": "code",
   "execution_count": 11,
   "metadata": {},
   "outputs": [
    {
     "name": "stdout",
     "output_type": "stream",
     "text": [
      "Baseline eff 39.5%\n",
      "Single-mu eff 65.3%\n",
      "Cross-mu eff 29.9%\n",
      "Full OR eff 69.9%\n",
      "Baseline eff 33.6%\n",
      "Single-e eff 44.6%\n",
      "Cross-e eff 18.6%\n",
      "Full OR eff 49.7%\n",
      "Baseline eff 22.4%\n",
      "Ditau eff 25.8%\n"
     ]
    }
   ],
   "source": [
    "printEffs_mutau(zbb_htt_signal)\n",
    "printEffs_etau(zbb_htt_signal)\n",
    "printEffs_tautau(zbb_htt_signal)"
   ]
  },
  {
   "cell_type": "code",
   "execution_count": 12,
   "metadata": {},
   "outputs": [
    {
     "name": "stdout",
     "output_type": "stream",
     "text": [
      "Baseline eff 32.2%\n",
      "Single-mu eff 63.4%\n",
      "Cross-mu eff 27.2%\n",
      "Full OR eff 68.0%\n",
      "Baseline eff 26.2%\n",
      "Single-e eff 42.4%\n",
      "Cross-e eff 15.9%\n",
      "Full OR eff 46.8%\n",
      "Baseline eff 14.8%\n",
      "Ditau eff 27.9%\n"
     ]
    }
   ],
   "source": [
    "printEffs_mutau(ztt_hbb_signal)\n",
    "printEffs_etau(ztt_hbb_signal)\n",
    "printEffs_tautau(ztt_hbb_signal)"
   ]
  },
  {
   "cell_type": "code",
   "execution_count": 13,
   "metadata": {},
   "outputs": [
    {
     "name": "stdout",
     "output_type": "stream",
     "text": [
      "Baseline eff 29.2%\n",
      "Single-mu eff 61.1%\n",
      "Cross-mu eff 20.3%\n",
      "Full OR eff 64.3%\n",
      "Baseline eff 22.3%\n",
      "Single-e eff 34.8%\n",
      "Cross-e eff 11.2%\n",
      "Full OR eff 39.7%\n",
      "Baseline eff 9.4%\n",
      "Ditau eff 21.0%\n"
     ]
    }
   ],
   "source": [
    "printEffs_mutau(zz_signal)\n",
    "printEffs_etau(zz_signal)\n",
    "printEffs_tautau(zz_signal)"
   ]
  },
  {
   "cell_type": "code",
   "execution_count": 17,
   "metadata": {},
   "outputs": [
    {
     "data": {
      "text/plain": [
       "72"
      ]
     },
     "execution_count": 17,
     "metadata": {},
     "output_type": "execute_result"
    }
   ],
   "source": [
    "ak.count_nonzero(zz_signal[filterEvents_singleLepton(zz_signal, 1, 24, 2.5)].HLT_Ele24_eta2p1_WPTight_Gsf_LooseChargedIsoPFTauHPS30_eta2p1_CrossL1)"
   ]
  },
  {
   "cell_type": "code",
   "execution_count": 92,
   "metadata": {},
   "outputs": [
    {
     "data": {
      "text/plain": [
       "(0.8021372752094906,\n",
       " 0.7985123811317202,\n",
       " 0.26179267488937014,\n",
       " 0.0036248940777704546)"
      ]
     },
     "execution_count": 92,
     "metadata": {},
     "output_type": "execute_result"
    }
   ],
   "source": [
    "# looking at intersection of phase space of single and cross triggers\n",
    "base_filter_mutau = filterEvents_singleLepton(zbb_htt_signal, 0, 20, 2.4)\n",
    "# f_overlap = f_singleMu & f_crossMu\n",
    "# f_singleMu_overlap = filterEvents_singleLepton(zbb_htt_signal, 0, 26, 2.1)\n",
    "# f_crossMu_overlap = filterEvents_cross(zbb_htt_signal, 0, 26, 2.1, 32, 2.1)\n",
    "# (singleMu|cross, singleMu, singleMu&noCross, noSingleMu&cross)\n",
    "ak.count_nonzero(zbb_htt_signal[f_overlap][\"HLT_IsoMu24\"] | zbb_htt_signal[f_overlap][\"HLT_IsoMu20_eta2p1_LooseChargedIsoPFTauHPS27_eta2p1_CrossL1\"])/ak.count_nonzero(f_overlap), ak.count_nonzero(zbb_htt_signal[f_overlap][\"HLT_IsoMu24\"])/ak.count_nonzero(f_overlap), ak.count_nonzero(zbb_htt_signal[f_overlap][\"HLT_IsoMu24\"] & (~(zbb_htt_signal[f_overlap][\"HLT_IsoMu20_eta2p1_LooseChargedIsoPFTauHPS27_eta2p1_CrossL1\"])))/ak.count_nonzero(f_overlap), ak.count_nonzero((~(zbb_htt_signal[f_overlap][\"HLT_IsoMu24\"])) & zbb_htt_signal[f_overlap][\"HLT_IsoMu20_eta2p1_LooseChargedIsoPFTauHPS27_eta2p1_CrossL1\"])/ak.count_nonzero(f_overlap)"
   ]
  },
  {
   "cell_type": "code",
   "execution_count": 18,
   "metadata": {},
   "outputs": [
    {
     "data": {
      "text/plain": [
       "(7, 7756)"
      ]
     },
     "execution_count": 18,
     "metadata": {},
     "output_type": "execute_result"
    }
   ],
   "source": [
    "ak.count_nonzero(zbb_htt_signal[base_filter_mutau][\"HLT_IsoMu20_eta2p1_LooseChargedIsoPFTauHPS27_eta2p1_CrossL1\"] &(~zbb_htt_signal[base_filter_mutau][\"HLT_IsoMu24\"])), ak.count_nonzero(base_filter_mutau)"
   ]
  },
  {
   "cell_type": "code",
   "execution_count": 14,
   "metadata": {},
   "outputs": [
    {
     "data": {
      "text/plain": [
       "0.0009025270758122744"
      ]
     },
     "execution_count": 14,
     "metadata": {},
     "output_type": "execute_result"
    }
   ],
   "source": [
    "base_filter_mutau = filterEvents_singleLepton(zbb_htt_signal, 0, 26, 2.4)\n",
    "eff(zbb_htt_signal[base_filter_mutau][\"HLT_IsoMu20_eta2p1_LooseChargedIsoPFTauHPS27_eta2p1_CrossL1\"] &(~zbb_htt_signal[base_filter_mutau][\"HLT_IsoMu24\"]), base_filter_mutau)"
   ]
  },
  {
   "cell_type": "code",
   "execution_count": 16,
   "metadata": {},
   "outputs": [
    {
     "data": {
      "text/plain": [
       "0.0076676176890156916"
      ]
     },
     "execution_count": 16,
     "metadata": {},
     "output_type": "execute_result"
    }
   ],
   "source": [
    "base_filter_etau = filterEvents_singleLepton(zbb_htt_signal, 1, 33, 2.5)\n",
    "eff((~(zbb_htt_signal[base_filter_etau].HLT_Ele32_WPTight_Gsf)) &zbb_htt_signal[base_filter_etau].HLT_Ele24_eta2p1_WPTight_Gsf_LooseChargedIsoPFTauHPS30_eta2p1_CrossL1, base_filter_etau)"
   ]
  },
  {
   "cell_type": "code",
   "execution_count": 26,
   "metadata": {},
   "outputs": [
    {
     "name": "stdout",
     "output_type": "stream",
     "text": [
      "HLT_Ele32_WPTight_Gsf_L1DoubleEG : 8.1%\n",
      "HLT_Ele24_eta2p1_WPTight_Gsf_LooseChargedIsoPFTauHPS30_eta2p1_CrossL1 : 3.4%\n",
      "HLT_IsoMu20_eta2p1_LooseChargedIsoPFTauHPS27_eta2p1_CrossL1 : 5.0%\n",
      "HLT_IsoMu24 : 11.9%\n",
      "HLT_IsoMu27 : 10.9%\n",
      "HLT_DoubleMediumChargedIsoPFTauHPS35_Trk1_eta2p1_Reg : 5.1%\n"
     ]
    }
   ],
   "source": [
    "printEffs(zbb_htt_signal)"
   ]
  },
  {
   "cell_type": "code",
   "execution_count": null,
   "metadata": {},
   "outputs": [],
   "source": []
  }
 ],
 "metadata": {
  "kernelspec": {
   "display_name": "modules-python-3.11",
   "language": "python",
   "name": "python3"
  },
  "language_info": {
   "codemirror_mode": {
    "name": "ipython",
    "version": 3
   },
   "file_extension": ".py",
   "mimetype": "text/x-python",
   "name": "python",
   "nbconvert_exporter": "python",
   "pygments_lexer": "ipython3",
   "version": "3.11.6"
  }
 },
 "nbformat": 4,
 "nbformat_minor": 2
}
