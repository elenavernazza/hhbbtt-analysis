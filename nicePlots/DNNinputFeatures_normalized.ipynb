{
 "cells": [
  {
   "cell_type": "code",
   "execution_count": 50,
   "metadata": {},
   "outputs": [],
   "source": [
    "import pandas as pd\n",
    "import numpy as np\n",
    "import hist\n",
    "import matplotlib.pyplot as plt\n",
    "import mplhep as hep\n",
    "plt.style.use(hep.style.CMS)"
   ]
  },
  {
   "cell_type": "code",
   "execution_count": 42,
   "metadata": {},
   "outputs": [],
   "source": [
    "features   = [\n",
    "                'hh_kinfit_chi2', 'hh_kinfit_m', 'sv_mass', 'dR_l1_l2_x_sv_pT', 'l_1_mt', 'l_2_pT', 'dR_l1_l2',\n",
    "                'dphi_sv_met', 'h_bb_mass', 'b_2_hhbtag', 'diH_mass_sv', 'dphi_hbb_sv', 'h_bb_pT', \n",
    "                'dR_l1_l2_boosted_htt_met', 'l_1_pT', 'b_1_pT', 'phi', 'costheta_l2_httmet', \n",
    "                'b_1_cvsb', 'b_1_cvsl', 'boosted', 'channel', 'is_vbf', 'jet_1_quality', 'jet_2_quality', 'year']"
   ]
  },
  {
   "cell_type": "code",
   "execution_count": 12,
   "metadata": {},
   "outputs": [
    {
     "data": {
      "text/plain": [
       "(<KeysViewHDF5 ['fold_0', 'fold_1', 'fold_2', 'fold_3', 'fold_4', 'fold_5', 'fold_6', 'fold_7', 'fold_8', 'fold_9', 'meta_data']>,\n",
       " <KeysViewHDF5 ['inputs', 'targets', 'weights']>)"
      ]
     },
     "execution_count": 12,
     "metadata": {},
     "output_type": "execute_result"
    }
   ],
   "source": [
    "import h5py\n",
    "train_0 = h5py.File(\"/grid_mnt/data__data.polcms/cms/vernazza/FrameworkNanoAOD/DNNTraining/NonResDNN/AN/DNNWeight_ZttHbb_FullRun2_0/DNNInputs/train_0.hdf5\", \"r\")\n",
    "train_1 = h5py.File(\"/grid_mnt/data__data.polcms/cms/vernazza/FrameworkNanoAOD/DNNTraining/NonResDNN/AN/DNNWeight_ZttHbb_FullRun2_0/DNNInputs/train_1.hdf5\", \"r\")\n",
    "train_0.keys(), train_0[\"fold_0\"].keys()"
   ]
  },
  {
   "cell_type": "code",
   "execution_count": 25,
   "metadata": {},
   "outputs": [
    {
     "data": {
      "text/plain": [
       "(<KeysViewHDF5 ['cat_feats', 'cont_feats', 'targ_feats', 'wgt_feat']>,\n",
       " <HDF5 dataset \"wgt_feat\": shape (), type \"|O\">)"
      ]
     },
     "execution_count": 25,
     "metadata": {},
     "output_type": "execute_result"
    }
   ],
   "source": [
    "train_0[\"meta_data\"].keys(), train_0[\"meta_data/wgt_feat\"]"
   ]
  },
  {
   "cell_type": "code",
   "execution_count": 28,
   "metadata": {},
   "outputs": [
    {
     "data": {
      "text/plain": [
       "array([[-3.2907122e-01,  1.9493385e-01, -7.9089636e-01, ...,\n",
       "         3.0000000e+00,  1.0000000e+00,  0.0000000e+00],\n",
       "       [-3.8719672e-01, -4.8722884e-01, -6.0812507e-02, ...,\n",
       "         2.0000000e+00,  1.0000000e+00,  0.0000000e+00],\n",
       "       [-3.9886963e-01, -7.1639726e-05, -3.3958197e-01, ...,\n",
       "         1.0000000e+00,  4.0000000e+00,  0.0000000e+00],\n",
       "       ...,\n",
       "       [           nan, -1.8820062e+00,  3.0031523e-01, ...,\n",
       "         4.0000000e+00,  4.0000000e+00,  2.0000000e+00],\n",
       "       [-3.3280262e-01,  7.3043853e-01,  2.5700292e-01, ...,\n",
       "         4.0000000e+00,  4.0000000e+00,  2.0000000e+00],\n",
       "       [           nan, -1.8820062e+00,  1.4984854e-01, ...,\n",
       "         2.0000000e+00,  4.0000000e+00,  2.0000000e+00]], dtype=float32)"
      ]
     },
     "execution_count": 28,
     "metadata": {},
     "output_type": "execute_result"
    }
   ],
   "source": [
    "np.concatenate([train_0[\"fold_0\"][\"inputs\"], train_0[\"fold_1\"][\"inputs\"]])"
   ]
  },
  {
   "cell_type": "code",
   "execution_count": 44,
   "metadata": {},
   "outputs": [],
   "source": [
    "def merge_folds_all(key:str):\n",
    "    return np.concatenate([train_0[f\"fold_{i}\"][key] for i in range(10)] + [train_1[f\"fold_{i}\"][key] for i in range(10)])\n",
    "def merge_folds(key:str, evenOrOdd:int):\n",
    "    if evenOrOdd == 0: train = train_0\n",
    "    else: train = train_1\n",
    "    return np.concatenate([train[f\"fold_{i}\"][key] for i in range(10)])\n",
    "inputs, targets, weights = merge_folds_all(\"inputs\"), merge_folds_all(\"targets\"), merge_folds_all(\"weights\")\n",
    "inputs_0, targets_0, weights_0 = merge_folds(\"inputs\", 0), merge_folds(\"targets\", 0), merge_folds(\"weights\", 0)\n",
    "inputs_1, targets_1, weights_1 = merge_folds(\"inputs\", 1), merge_folds(\"targets\", 1), merge_folds(\"weights\", 1)"
   ]
  },
  {
   "cell_type": "code",
   "execution_count": 41,
   "metadata": {},
   "outputs": [
    {
     "data": {
      "text/plain": [
       "array([-3.29071224e-01, -3.87196720e-01, -3.98869634e-01,  1.83490944e+00,\n",
       "       -3.65984142e-01,  5.29814541e-01, -3.90841931e-01, -3.95477206e-01,\n",
       "       -3.44291568e-01, -3.77469122e-01, -3.32248688e-01,  1.68302345e+00,\n",
       "       -3.94572288e-01, -3.97039413e-01, -3.28071773e-01, -3.89058411e-01,\n",
       "        2.30231953e+00, -3.84937644e-01, -3.42250526e-01, -1.81777060e-01,\n",
       "       -3.48374993e-01, -3.90684217e-01, -3.72844428e-01, -3.09018105e-01,\n",
       "       -2.43389189e-01, -3.96261990e-01, -3.88279885e-01, -3.72709155e-01,\n",
       "       -3.84764075e-01, -3.43437105e-01, -3.43807220e-01,  2.85888863e+00,\n",
       "       -1.47959903e-01, -3.82495731e-01, -3.47894520e-01, -3.95127267e-01,\n",
       "        1.85123608e-01, -3.02782178e-01, -3.43487889e-01, -2.53264099e-01,\n",
       "       -3.65185648e-01, -3.86920273e-01, -3.80530745e-01, -3.88469070e-01,\n",
       "       -2.64255881e-01, -2.32659802e-01,  2.91744256e+00, -3.83860171e-01,\n",
       "       -3.50629270e-01,  8.83107471e+00, -3.98218274e-01, -2.40504727e-01,\n",
       "       -3.48732591e-01, -1.83730513e-01, -3.24292094e-01, -3.89431655e-01,\n",
       "       -3.95292997e-01, -3.95518214e-01, -3.66512120e-01,  7.10331774e+00,\n",
       "       -2.79858112e-01, -3.89135987e-01,  4.44927740e+00, -3.65874290e-01,\n",
       "       -2.87417918e-01, -1.95866421e-01, -3.83824468e-01,  2.85500616e-01,\n",
       "       -2.68858641e-01,  1.11832178e+00, -3.19784164e-01, -3.98610920e-01,\n",
       "       -3.61987680e-01, -3.94533426e-01, -2.10224330e-01, -2.59219199e-01,\n",
       "       -3.88112366e-01, -3.99747968e-01, -1.45916358e-01, -3.92605662e-01,\n",
       "       -2.86788821e-01, -3.60473990e-02, -2.29458570e-01, -3.83572191e-01,\n",
       "       -3.38997751e-01, -2.41523951e-01,  3.29639935e+00,  3.34815055e-01,\n",
       "       -3.42086852e-01, -3.99652898e-01, -3.98552954e-01, -3.35929185e-01,\n",
       "       -3.80842119e-01, -3.86218697e-01, -1.89609900e-01,  7.73531199e-01,\n",
       "       -3.80397469e-01, -3.73312801e-01,  9.97513711e-01, -3.92185271e-01,\n",
       "        1.84521413e+00, -3.99697512e-01, -3.43003541e-01, -3.76076788e-01,\n",
       "       -3.93642366e-01, -3.19530129e-01, -3.38897496e-01, -3.25963646e-01,\n",
       "       -3.99725467e-01, -3.70594174e-01,  2.37084675e+00, -3.93337339e-01,\n",
       "       -2.70991087e-01, -3.42211634e-01, -3.92577767e-01, -3.89552951e-01,\n",
       "       -3.57906908e-01, -2.51778096e-01, -3.99796367e-01, -2.98013479e-01,\n",
       "       -2.94690520e-01, -1.41915560e-01, -3.99619371e-01, -3.94637406e-01,\n",
       "        6.35158002e-01, -3.95696133e-01, -3.72690082e-01, -3.88689190e-01,\n",
       "       -3.01385909e-01, -3.44807774e-01, -3.63908082e-01, -3.95281702e-01,\n",
       "       -3.85635555e-01, -3.97032946e-01, -3.94517571e-01, -3.18333715e-01,\n",
       "       -2.80413091e-01, -3.61303836e-01, -3.15473258e-01,  1.55447447e+00,\n",
       "       -2.67745167e-01, -3.93797129e-01, -3.71624112e-01, -2.90883720e-01,\n",
       "       -2.91401565e-01, -3.72384548e-01, -3.90662134e-01,  1.11362018e-01,\n",
       "       -3.89067084e-01, -2.01511934e-01, -3.63136142e-01, -3.87425393e-01,\n",
       "        3.39561343e+00, -3.97016674e-01,  4.54149216e-01, -3.53036225e-01,\n",
       "       -3.33450377e-01, -3.36826652e-01, -3.93411994e-01,  5.66914797e-01,\n",
       "       -3.97422314e-01, -3.83432627e-01, -3.68901759e-01,  3.10701668e-01,\n",
       "       -3.23119879e-01, -3.95038456e-01,  9.57878530e-01, -2.51114070e-01,\n",
       "       -3.98458987e-01, -3.98768157e-01, -2.92375922e-01, -3.92782450e-01,\n",
       "       -3.53014052e-01, -3.88707042e-01, -3.87872130e-01, -3.83508354e-01,\n",
       "       -3.98126781e-01, -3.93849552e-01, -7.10390955e-02,  2.98086953e+00,\n",
       "       -3.36683959e-01,  2.36336827e-01, -3.97657901e-01, -3.71815592e-01,\n",
       "       -3.89655024e-01, -3.93735260e-01,  3.46059293e-01, -3.72402310e-01,\n",
       "       -3.97944182e-01, -3.97922605e-01, -3.70568782e-01,  1.06143475e+00,\n",
       "       -3.87991488e-01, -3.94259632e-01, -3.04661125e-01, -3.90021175e-01,\n",
       "        1.14124990e+00, -3.74167234e-01, -3.71796757e-01, -3.41007292e-01,\n",
       "        5.85534990e-01, -2.63916641e-01, -3.99171710e-01, -1.11601032e-01,\n",
       "       -3.82736862e-01, -3.87645811e-01,  9.22444916e+00, -3.86899650e-01,\n",
       "       -3.70352149e-01, -3.98369730e-01, -3.42608780e-01,  6.89863861e-02,\n",
       "       -3.83781105e-01, -3.84562194e-01, -3.92636627e-01, -3.88706923e-01,\n",
       "       -1.13466270e-01, -3.13223273e-01, -3.40599179e-01, -3.92918795e-01,\n",
       "       -3.93305272e-01,  3.83242458e-01, -3.80306363e-01,  1.13210762e+00,\n",
       "        2.50861335e+00, -3.48916233e-01, -3.58191490e-01, -3.44053328e-01,\n",
       "       -2.05008626e-01, -3.41430753e-01, -2.44632542e-01, -3.50908846e-01,\n",
       "       -2.40426719e-01, -2.50579178e-01, -3.52839530e-02, -3.93864334e-01,\n",
       "       -3.60968381e-01, -3.39661986e-01, -3.78785133e-01, -3.93877476e-01,\n",
       "       -3.49589020e-01, -3.19781542e-01, -3.90623182e-01,  1.35115758e-01,\n",
       "       -2.31846139e-01, -3.99505854e-01, -3.91495109e-01, -3.62175852e-01,\n",
       "       -3.65688890e-01, -3.80866677e-01, -3.76015246e-01, -3.48203599e-01,\n",
       "       -3.88578385e-01, -1.84862390e-01, -3.94786000e-01, -3.98005873e-01,\n",
       "        1.47296107e+00, -3.83853525e-01, -3.93098295e-01, -3.68183732e-01,\n",
       "        7.02136397e-01,  6.70888603e-01,  4.55096275e-01,  2.73027873e+00,\n",
       "       -1.92355126e-01,  3.28822851e+00, -3.36682290e-01, -1.09549128e-01,\n",
       "       -3.91144931e-01, -1.35857716e-01, -3.98373276e-01, -3.76196921e-01,\n",
       "       -3.58351767e-01,  1.50566399e-01, -3.54107857e-01, -3.63496900e-01,\n",
       "       -2.55500346e-01, -3.90822142e-01, -2.76245564e-01, -3.82781506e-01,\n",
       "       -3.54451418e-01, -3.52460355e-01, -3.74502659e-01, -3.96895170e-01,\n",
       "       -3.45522344e-01, -3.45121980e-01, -2.88468271e-01, -3.85941982e-01,\n",
       "        1.04768062e+00, -3.62921625e-01, -3.91283751e-01, -8.95266756e-02,\n",
       "       -1.76269844e-01,  1.91582441e+00, -3.91510248e-01, -2.17815399e-01,\n",
       "       -3.91794890e-01,  1.47513552e-02, -3.94213885e-01, -3.18631828e-01,\n",
       "       -3.77025604e-01, -3.97214770e-01, -5.67653142e-02, -3.80169749e-01,\n",
       "        4.82566214e+00, -3.30344707e-01, -3.73759955e-01, -2.44388968e-01,\n",
       "       -3.91186297e-01, -3.94624770e-01, -2.19716713e-01, -3.94049734e-01,\n",
       "       -3.98999512e-01, -2.98125595e-01, -3.93984079e-01, -3.93091887e-01,\n",
       "        5.44998074e+00,  3.24994922e+00, -3.34515184e-01, -3.98792773e-01,\n",
       "       -3.37131679e-01, -3.80202204e-01, -3.79328042e-01, -3.81200373e-01,\n",
       "       -3.66183341e-01, -3.85053605e-01, -2.46606037e-01, -3.36518109e-01,\n",
       "       -3.50973845e-01, -3.62301648e-01, -4.85995822e-02, -3.74179393e-01,\n",
       "       -3.98448676e-01, -1.00853801e-01, -3.56869847e-01, -2.73025930e-01,\n",
       "       -3.98345232e-01, -3.77124310e-01, -2.75089920e-01, -3.14121515e-01,\n",
       "        1.81787038e+00, -3.48571926e-01, -3.24799210e-01,  2.20901251e+00,\n",
       "       -3.28567088e-01, -4.33613034e-03, -3.57581556e-01, -3.98911476e-01,\n",
       "       -3.80401105e-01, -3.86819661e-01, -2.50539929e-01, -3.72533888e-01,\n",
       "       -3.04014217e-02, -3.91085535e-01, -3.69695455e-01, -3.78224880e-01,\n",
       "       -3.49402249e-01, -2.42915958e-01, -3.61222088e-01, -4.89791259e-02,\n",
       "       -3.08717728e-01,  2.07444596e+00, -3.77651453e-01, -3.83054048e-01,\n",
       "        3.59499425e-01, -3.72212797e-01,  1.90125406e+00,  5.60131788e-01,\n",
       "       -2.54195601e-01,  3.36365891e+00, -3.82064581e-01, -3.52216542e-01,\n",
       "       -3.68929774e-01, -3.96247566e-01, -3.55623454e-01, -3.28639537e-01,\n",
       "       -3.81252587e-01, -3.73922348e-01,  4.62583989e-01, -3.15862656e-01,\n",
       "       -3.81075263e-01,  7.42708981e-01, -3.96974772e-01, -2.28273422e-01,\n",
       "       -3.82816702e-01,  2.67912459e+00,  1.53173971e+00, -3.61225128e-01,\n",
       "       -3.17749768e-01, -3.20298702e-01, -5.09988293e-02, -3.72722387e-01,\n",
       "       -3.88312697e-01, -1.22152202e-01, -3.57725501e-01, -2.87093639e-01,\n",
       "       -3.78185511e-01, -3.85910571e-01, -1.29429504e-01, -3.87679368e-01,\n",
       "       -3.64700019e-01, -3.52421552e-01, -3.17259997e-01, -3.14612985e-01,\n",
       "       -3.72971624e-01, -3.47360939e-01, -3.25132757e-01, -3.61081332e-01,\n",
       "       -3.75103742e-01, -2.51426429e-01, -3.86624843e-01,  6.79777920e-01,\n",
       "        4.54266071e+00, -3.89865279e-01,  1.05479169e+00, -2.67328978e-01,\n",
       "       -3.03946167e-01, -2.54399568e-01, -3.37998211e-01,  1.66434824e+00,\n",
       "       -3.65573436e-01, -3.69387627e-01, -3.90147686e-01, -3.98736417e-01,\n",
       "       -3.27521294e-01, -3.88179153e-01, -2.35082746e-01, -2.55788356e-01,\n",
       "       -3.70649189e-01, -2.93621540e-01, -3.49967360e-01, -3.11320007e-01,\n",
       "       -2.72887260e-01, -3.19414586e-01, -3.59412938e-01, -3.51911008e-01,\n",
       "       -3.99877161e-01, -3.39592040e-01, -3.43532413e-01, -3.83076876e-01,\n",
       "        1.49265110e+00, -3.58860373e-01, -2.73613483e-01, -3.12584966e-01,\n",
       "       -3.67898434e-01, -3.87353778e-01, -3.95081818e-01, -2.87582219e-01,\n",
       "       -3.01152319e-01, -3.36143136e-01, -3.63566726e-01, -1.44014463e-01,\n",
       "       -2.87710637e-01, -2.11781204e-01, -3.89519781e-01, -3.45492095e-01,\n",
       "       -3.91162276e-01, -3.91059846e-01, -3.11822891e-01, -3.81580710e-01,\n",
       "       -3.91506344e-01, -3.65881622e-01,  1.34291756e+00, -3.78475487e-01,\n",
       "       -2.97823817e-01, -3.30420882e-01, -1.99837819e-01, -3.79290015e-01,\n",
       "       -3.47510427e-01, -3.99410695e-01, -7.60657415e-02, -3.95796150e-01,\n",
       "       -3.83589357e-01, -2.68214345e-01, -2.27678549e-02, -1.66715324e-01,\n",
       "       -1.35019824e-01, -3.98478508e-01, -3.97281319e-01, -3.42941999e-01,\n",
       "       -3.86986226e-01, -3.98486674e-01, -3.32868606e-01, -3.96925807e-01,\n",
       "       -3.95201296e-01, -3.98378253e-01, -3.77070069e-01, -3.88596654e-01,\n",
       "        3.49853188e-01, -3.91359180e-01, -3.12597573e-01, -3.58622938e-01,\n",
       "        1.63641191e+00, -3.82883459e-01, -3.70584905e-01, -2.91224748e-01,\n",
       "       -3.61516982e-01, -3.35549802e-01, -3.95052999e-01, -3.96798700e-01,\n",
       "        3.35427225e-01, -3.99115533e-01, -2.77882278e-01,  1.04342654e-01,\n",
       "       -3.96240890e-01, -3.65737438e-01, -3.94752055e-01, -3.66582274e-01,\n",
       "       -3.81801337e-01, -3.54623497e-01, -3.91338587e-01,  1.56209111e-01,\n",
       "       -3.95643771e-01, -3.86846662e-01, -3.96662146e-01, -3.50422561e-01,\n",
       "       -2.41417632e-01, -3.88877213e-01, -3.84720027e-01, -3.91153097e-01,\n",
       "        5.13506718e-02, -3.91126901e-01, -3.97084773e-01, -2.83406913e-01,\n",
       "       -1.46221116e-01, -3.69270355e-01, -3.65453005e-01,  2.56763905e-01,\n",
       "       -3.68311048e-01,  6.70061052e-01, -3.07002366e-01, -3.33224326e-01,\n",
       "       -2.86756784e-01, -3.08927774e-01, -3.97444993e-01, -3.96549821e-01,\n",
       "       -3.05842876e-01, -3.94944727e-01, -3.07729602e-01, -3.69350612e-01,\n",
       "       -3.78023058e-01, -3.91688526e-01, -2.99265206e-01, -3.91197592e-01,\n",
       "       -3.61783147e-01, -3.80841762e-01,  1.30431318e+00,  4.49811316e+00,\n",
       "       -3.96038920e-01,  5.11139345e+00, -3.91615152e-01,  9.56882298e-01,\n",
       "       -3.84965450e-01,  2.05886793e+00, -3.50622207e-01, -3.25729311e-01,\n",
       "       -3.22281599e-01, -3.64223719e-01, -3.79262149e-01, -3.52748066e-01,\n",
       "        5.28462887e-01, -3.37688744e-01, -1.02822594e-01, -3.53748709e-01,\n",
       "       -3.73207539e-01, -2.81450540e-01, -3.99791956e-01, -3.98160726e-01,\n",
       "       -2.91880161e-01, -2.46936500e-01,  6.15715599e+00, -3.56976211e-01,\n",
       "       -3.89020205e-01, -2.51580060e-01, -3.56881559e-01, -3.43876034e-01,\n",
       "       -3.74102861e-01, -3.56911123e-01, -3.99896383e-01, -3.91096622e-01,\n",
       "       -3.96913022e-01, -3.98160219e-01, -3.92717123e-01, -2.79031277e-01,\n",
       "       -3.25727403e-01, -3.82088751e-01, -3.77434433e-01, -2.82250971e-01,\n",
       "       -3.88318956e-01, -2.55244970e-01, -3.80503953e-01, -3.74366641e-01,\n",
       "       -3.95109296e-01, -3.02053899e-01, -3.86099666e-01, -3.47011656e-01,\n",
       "        8.89913917e-01,  4.40542459e+00, -2.37104341e-01, -3.40056330e-01,\n",
       "       -3.84403050e-01, -2.58266747e-01, -3.66379350e-01, -3.76657903e-01,\n",
       "       -3.27502072e-01, -1.41847014e-01, -2.21933246e-01, -3.82468104e-01,\n",
       "       -2.45336667e-01, -3.34903240e-01, -3.78680140e-01, -3.78139943e-01,\n",
       "       -1.79917991e-01, -3.69125932e-01, -3.95834923e-01,  1.34564924e+00,\n",
       "       -3.92061621e-01, -3.93740565e-01, -3.35471570e-01, -3.63759547e-01,\n",
       "       -3.59966725e-01, -3.92782837e-01, -2.94254243e-01, -3.75261694e-01,\n",
       "       -3.97936046e-01,  7.27910623e-02, -3.87780398e-01,  3.81631404e-02,\n",
       "       -3.19724202e-01,  8.03575993e+00,  6.03785217e-01, -3.96003366e-01,\n",
       "       -3.56590897e-01, -3.89315575e-01, -3.20926011e-01, -3.80018026e-01,\n",
       "        5.36988020e-01, -3.96280557e-01, -3.34336162e-01, -3.88158351e-01,\n",
       "       -1.69493362e-01, -3.71968746e-01, -1.81066900e-01, -3.89453381e-01,\n",
       "        1.82521224e+00, -3.89480144e-01, -2.78596908e-01,  2.29868025e-01,\n",
       "       -1.28151819e-01, -2.75417626e-01, -3.09691668e-01, -1.77385882e-01,\n",
       "       -3.55072200e-01, -3.63400638e-01, -3.75147283e-01, -1.25186101e-01,\n",
       "       -3.88085276e-01, -3.56854081e-01, -3.57585371e-01, -3.78040671e-01,\n",
       "       -1.43345982e-01, -3.60110939e-01, -3.44753474e-01, -3.45411003e-01,\n",
       "       -3.92688572e-01, -3.52465779e-01, -3.96815956e-01, -2.76838481e-01,\n",
       "        5.01067221e-01, -3.45716119e-01, -4.67521735e-02, -3.61603707e-01,\n",
       "       -3.85856867e-01, -2.78452575e-01,  7.37941980e-01, -3.49365026e-01,\n",
       "        1.74318695e+00, -9.68474597e-02, -3.40149999e-01, -1.61892980e-01,\n",
       "       -2.09586561e-01, -2.47237816e-01,  8.77687573e-01, -3.73631686e-01,\n",
       "       -3.84467959e-01, -3.28539431e-01,  1.33934259e-01, -3.69253397e-01,\n",
       "       -3.82889718e-01, -1.87938392e-01, -3.96190494e-01, -1.34302706e-01,\n",
       "       -3.34227949e-01,  6.76845598e+00, -8.11505020e-02, -3.94173920e-01,\n",
       "       -3.96025896e-01, -3.84522051e-01, -3.91253978e-01, -3.38771373e-01,\n",
       "       -3.44250947e-01, -3.88859510e-01, -3.82129610e-01, -2.37229660e-01,\n",
       "       -3.15893829e-01, -3.23294520e-01, -3.41025949e-01,  1.71612918e+00,\n",
       "       -3.32660437e-01,  1.21166575e+00, -2.59493768e-01,  9.58826184e-01,\n",
       "       -3.85877132e-01, -3.95746469e-01, -1.01044506e-01, -3.70780319e-01,\n",
       "        2.82007664e-01, -3.57350856e-01, -1.53532019e-02, -3.60666066e-01,\n",
       "       -5.26740849e-02, -3.71675491e-01, -3.62381667e-01, -3.14006150e-01,\n",
       "       -3.97513866e-01, -3.88416201e-01, -3.37397277e-01, -1.45175725e-01,\n",
       "       -3.40171784e-01, -3.72499287e-01, -3.97610933e-01, -3.86079431e-01,\n",
       "       -3.63832891e-01, -3.95330817e-01, -3.70020330e-01, -3.93955112e-01,\n",
       "       -3.94962728e-01, -3.51194084e-01, -3.94827485e-01, -3.74403596e-01,\n",
       "       -3.61711234e-01, -3.75762731e-01, -3.81870866e-01, -2.00620703e-02,\n",
       "       -3.69309247e-01, -3.05680126e-01, -3.95571619e-01, -1.35166988e-01,\n",
       "       -3.30541700e-01, -3.94627661e-01, -3.98372948e-01, -3.95023286e-01,\n",
       "       -2.16940627e-01, -2.81983614e-01, -2.78512478e-01, -1.94468215e-01,\n",
       "       -2.83218205e-01, -3.15291554e-01, -3.91819239e-01, -1.96110457e-01,\n",
       "       -2.86213994e-01, -3.90103340e-01, -3.82211268e-01,  3.03014040e+00,\n",
       "       -2.08169356e-01, -3.91179413e-01,  8.80340397e-01, -3.53176683e-01,\n",
       "       -3.65348309e-01, -3.53082150e-01, -3.98752213e-01, -2.96569854e-01,\n",
       "       -3.90001863e-01, -3.34999263e-01, -3.99512559e-01,             nan,\n",
       "       -3.81522506e-01, -3.94774228e-01, -3.91115874e-01, -3.94955963e-01,\n",
       "       -3.94223839e-01,  4.04831588e-01, -3.93600553e-01, -3.39240640e-01,\n",
       "       -3.97997409e-01, -3.39334100e-01,  1.17780685e+00, -3.16081405e-01,\n",
       "       -1.26640886e-01, -3.91696513e-01, -2.33060390e-01, -2.99734294e-01,\n",
       "       -3.90963465e-01,  1.49622157e-01, -3.96115690e-01,             nan,\n",
       "        2.46667564e-02, -3.83539230e-01, -3.78188789e-01, -3.56514364e-01,\n",
       "       -3.99705619e-01, -2.79219449e-01, -3.34143609e-01, -1.77605242e-01,\n",
       "       -3.98524404e-01, -3.83749872e-01, -2.01057747e-01, -3.86001438e-01,\n",
       "       -2.42145956e-01, -3.90578687e-01,  4.70453411e-01, -3.93021613e-01,\n",
       "        8.34084973e-02,  9.31590319e-01,  3.06048393e-01, -3.86142164e-01,\n",
       "       -3.29067677e-01, -3.94224882e-01, -1.49391711e-01, -3.88297141e-01,\n",
       "       -3.35100442e-02, -3.94849539e-01, -3.57887030e-01, -3.91607702e-01,\n",
       "       -3.87356400e-01, -3.84586304e-01,  7.48738833e-03, -3.92652959e-01,\n",
       "       -3.77181947e-01, -3.83433938e-01, -3.67530912e-01, -3.87437403e-01,\n",
       "       -3.99348259e-01, -2.03981563e-01,  2.06080675e-01, -3.99059564e-01,\n",
       "        1.24335274e-01, -3.91579628e-01, -2.38937721e-01, -3.59620631e-01,\n",
       "        3.67623508e-01, -5.74883558e-02, -3.42576712e-01, -2.27413461e-01,\n",
       "       -2.82580882e-01, -2.72817701e-01, -3.94600987e-01, -3.97062004e-01,\n",
       "       -3.72608066e-01, -2.01269612e-01, -2.21775234e-01, -2.48078734e-01,\n",
       "        1.45009148e+00, -1.71513751e-01, -3.89135867e-01, -3.77697289e-01,\n",
       "       -3.70066673e-01, -3.95016253e-01, -3.87412131e-01, -3.91694874e-01,\n",
       "       -3.96155387e-01, -2.69570440e-01, -3.74301970e-01, -3.99653554e-01,\n",
       "       -3.95146817e-01, -1.69866592e-01, -3.95701706e-01, -3.95452619e-01,\n",
       "       -1.39887586e-01, -3.15550506e-01,  2.33262348e+00, -2.87092835e-01,\n",
       "        2.04946470e+00, -3.85766417e-01, -2.06812069e-01, -3.04433286e-01,\n",
       "       -3.64021987e-01, -9.51053426e-02, -3.39354873e-01, -3.61176342e-01,\n",
       "       -3.96481037e-01, -3.83994102e-01, -3.97182882e-01, -3.90911967e-01,\n",
       "       -3.34168881e-01, -1.39114469e-01, -3.89554828e-01, -2.95312911e-01,\n",
       "       -3.00145030e-01, -3.77487659e-01, -3.74459714e-01, -3.87306482e-01,\n",
       "       -3.77256930e-01,  3.93888533e-01, -2.89239615e-01, -3.76504928e-01,\n",
       "       -3.96150500e-01, -3.65807533e-01, -2.28370652e-01, -3.85300279e-01,\n",
       "       -2.95851260e-01, -3.96357000e-01,  1.73504174e+00, -1.90895513e-01,\n",
       "       -3.08877319e-01, -3.94171596e-01, -3.52107853e-01, -3.81721377e-01,\n",
       "       -3.98604929e-01, -3.92609119e-01, -2.95801193e-01, -3.64516526e-01,\n",
       "       -3.53142440e-01, -3.98243338e-01,  5.94851792e-01, -3.87773693e-01,\n",
       "       -3.95319730e-01, -1.78465173e-01, -3.88707131e-01,  3.38421679e+00,\n",
       "       -3.88202310e-01, -3.94373357e-01, -3.67129028e-01, -3.97158802e-01,\n",
       "       -3.90901804e-01, -1.36123374e-01, -3.06086212e-01, -3.70127559e-01,\n",
       "       -3.91552240e-01, -3.90648007e-01, -1.46960393e-01, -3.89433712e-01,\n",
       "        8.39204597e+00, -3.90485883e-01, -3.19057256e-01, -3.76272142e-01,\n",
       "       -3.69228601e-01, -3.97925824e-01, -3.95275265e-01, -3.91395628e-01,\n",
       "       -3.73867512e-01, -3.98551822e-01, -3.71032745e-01,  8.29466656e-02,\n",
       "       -3.81869912e-01, -3.74412596e-01, -3.91451120e-01, -1.72896251e-01,\n",
       "       -3.90364766e-01, -3.53130043e-01, -3.31220537e-01, -3.90008926e-01,\n",
       "       -3.88166279e-01, -3.22502255e-01, -3.11295241e-01, -3.69946778e-01,\n",
       "        1.91067964e-01,  1.59734297e+00, -3.78527164e-01, -3.51568043e-01,\n",
       "       -3.59378576e-01, -3.84700269e-01,  7.05156684e-01, -3.91239196e-01,\n",
       "       -3.93523693e-01, -1.16097800e-01, -1.61354840e-01, -3.78737241e-01,\n",
       "       -7.38835484e-02, -3.82797390e-01, -3.97016466e-01, -3.99690449e-01,\n",
       "       -3.74505848e-01, -3.75615984e-01, -3.89077842e-01, -3.88411969e-01,\n",
       "       -3.90098780e-01, -3.74980748e-01, -3.53642166e-01, -3.56895000e-01,\n",
       "        4.08861667e-01, -2.25099325e-01, -3.84382814e-01, -3.88978571e-01,\n",
       "       -3.96396935e-01, -3.97961229e-01,  1.69544184e+00, -3.94858420e-01,\n",
       "       -3.52428198e-01, -3.74834776e-01, -3.69284004e-01, -3.51298571e-01,\n",
       "       -5.69712091e-03, -3.90996486e-01, -3.83164078e-01, -3.97161633e-01,\n",
       "        5.68129010e-02, -1.21496245e-01,  6.25226423e-02, -2.67887175e-01],\n",
       "      dtype=float32)"
      ]
     },
     "execution_count": 41,
     "metadata": {},
     "output_type": "execute_result"
    }
   ],
   "source": [
    "inputs[:1000, 0]"
   ]
  },
  {
   "cell_type": "code",
   "execution_count": 36,
   "metadata": {},
   "outputs": [
    {
     "data": {
      "text/plain": [
       "0.10385209524997217"
      ]
     },
     "execution_count": 36,
     "metadata": {},
     "output_type": "execute_result"
    }
   ],
   "source": [
    "np.count_nonzero(np.isnan(inputs[:, 0]))/inputs.shape[0]"
   ]
  },
  {
   "cell_type": "code",
   "execution_count": 43,
   "metadata": {},
   "outputs": [
    {
     "data": {
      "text/plain": [
       "(26, (11041809, 26))"
      ]
     },
     "execution_count": 43,
     "metadata": {},
     "output_type": "execute_result"
    }
   ],
   "source": [
    "len(features), inputs.shape"
   ]
  },
  {
   "cell_type": "code",
   "execution_count": 52,
   "metadata": {},
   "outputs": [
    {
     "name": "stderr",
     "output_type": "stream",
     "text": [
      "/opt/exp_soft/llr/python/3.11.8/el7/lib/python3.11/site-packages/mplhep/plot.py:592: UserWarning: set_ticklabels() should only be used with a fixed number of ticks, i.e. after set_ticks() or using a FixedLocator.\n",
      "  ax.set_xticklabels(xticks)\n"
     ]
    },
    {
     "data": {
      "text/plain": [
       "[StairsArtists(stairs=<matplotlib.patches.StepPatch object at 0x7f224ac91690>, errorbar=<ErrorbarContainer object of 3 artists>, legend_artist=<ErrorbarContainer object of 3 artists>),\n",
       " StairsArtists(stairs=<matplotlib.patches.StepPatch object at 0x7f224ad60490>, errorbar=<ErrorbarContainer object of 3 artists>, legend_artist=<ErrorbarContainer object of 3 artists>)]"
      ]
     },
     "execution_count": 52,
     "metadata": {},
     "output_type": "execute_result"
    },
    {
     "data": {
      "image/png": "[encoded data removed]",
      "text/plain": [
       "<Figure size 1000x1000 with 1 Axes>"
      ]
     },
     "metadata": {},
     "output_type": "display_data"
    }
   ],
   "source": [
    "hhbtag_axis = hist.axis.Regular(300, -5, 5, name=\"HHbtag\")\n",
    "hhbtag_0 = hist.Hist(hhbtag_axis, name=\"hhbtag_0\").fill(inputs_0[:, features.index(\"b_2_hhbtag\")])\n",
    "hhbtag_1 = hist.Hist(hhbtag_axis, name=\"hhbtag_1\").fill(inputs_1[:, features.index(\"b_2_hhbtag\")])\n",
    "hep.histplot([hhbtag_0, hhbtag_1], flow=\"show\")"
   ]
  },
  {
   "cell_type": "code",
   "execution_count": null,
   "metadata": {},
   "outputs": [],
   "source": []
  }
 ],
 "metadata": {
  "kernelspec": {
   "display_name": "modules-python-3.11",
   "language": "python",
   "name": "python3"
  },
  "language_info": {
   "codemirror_mode": {
    "name": "ipython",
    "version": 3
   },
   "file_extension": ".py",
   "mimetype": "text/x-python",
   "name": "python",
   "nbconvert_exporter": "python",
   "pygments_lexer": "ipython3",
   "version": "3.11.8"
  }
 },
 "nbformat": 4,
 "nbformat_minor": 2
}
