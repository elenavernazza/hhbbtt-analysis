{
 "cells": [
  {
   "cell_type": "code",
   "execution_count": null,
   "metadata": {},
   "outputs": [],
   "source": [
    "import ROOT, os, math, sys\n",
    "import scipy.optimize\n",
    "import numpy as np\n",
    "import matplotlib.pyplot as plt\n",
    "from matplotlib.patches import Ellipse\n",
    "import mplhep as hep\n",
    "plt.style.use(hep.style.CMS)"
   ]
  },
  {
   "cell_type": "code",
   "execution_count": null,
   "metadata": {},
   "outputs": [],
   "source": [
    "indir = '/data_CMS/cms/vernazza/cmt/PreprocessRDF/'"
   ]
  },
  {
   "cell_type": "code",
   "execution_count": null,
   "metadata": {},
   "outputs": [],
   "source": [
    "ROOT.gInterpreter.Declare(\"\"\"\n",
    "    using Vfloat = const ROOT::RVec<float>&;\n",
    "    using Vint   = const ROOT::RVec<int>&;\n",
    "    ROOT::RVec<int> find_bb_tautau(Vint GenPart_pdgId, Vint GenPart_genPartIdxMother, int pdgid_bb, int pdgid_tt) {\n",
    "        bool Foundbjets = false;\n",
    "        bool Foundtaus = false;\n",
    "        int index_b1 = -1;\n",
    "        int index_b2 = -1;\n",
    "        int index_t1 = -1;\n",
    "        int index_t2 = -1;\n",
    "        for (int i_gen = 0; i_gen < GenPart_pdgId.size(); i_gen ++) {\n",
    "            if (GenPart_genPartIdxMother.at(i_gen) == -1) continue; // it is the incoming parton\n",
    "            if ((Foundbjets != true) && (fabs(GenPart_pdgId.at(i_gen)) == 5) && (GenPart_pdgId.at(GenPart_genPartIdxMother.at(i_gen)) == pdgid_bb)) {\n",
    "                if (index_b1 == -1) index_b1 = i_gen;\n",
    "                else if (index_b2 == -1) index_b2 = i_gen;\n",
    "                if ((index_b1 != -1) && (index_b2 != -1)) {\n",
    "                    Foundbjets = true;\n",
    "                }\n",
    "            }\n",
    "            if ((Foundtaus != true) && (fabs(GenPart_pdgId.at(i_gen)) == 15) && (GenPart_pdgId.at(GenPart_genPartIdxMother.at(i_gen)) == pdgid_tt)) {\n",
    "                if (index_t1 == -1) index_t1 = i_gen;\n",
    "                else if (index_t2 == -1) index_t2 = i_gen;\n",
    "                if ((index_t1 != -1) && (index_t2 != -1)) {\n",
    "                    Foundtaus = true;\n",
    "                }\n",
    "            }\n",
    "        }\n",
    "        return {index_b1, index_b2, index_t1, index_t2} ;\n",
    "    }\n",
    "\"\"\")"
   ]
  },
  {
   "cell_type": "code",
   "execution_count": null,
   "metadata": {},
   "outputs": [],
   "source": [
    "def ComputeHHBTagPurity(folder):\n",
    "    files = glob.glob(folder + '/*')\n",
    "    \n",
    "    dataframe_files = ROOT.vector(str)()\n",
    "    for f in files:\n",
    "        dataframe_files.push_back(f)\n",
    "    df = ROOT.RDataFrame(\"Events\", dataframe_files)\n",
    "\n",
    "    # find index for gen level b jets\n",
    "    df = df.Define(\"index_b1\", \"find_bb_tautau(GenPart_pdgId, GenPart_genPartIdxMother, 23, 23).at(0)\")\n",
    "    df = df.Define(\"index_b2\", \"find_bb_tautau(GenPart_pdgId, GenPart_genPartIdxMother, 23, 23).at(1)\")\n",
    "\n",
    "    # check matching between tagged b jets and gen level b jets\n",
    "    df = df.Define(\"matched\", \"check_gen_tag_matching(index_b1, index_b2, bjet1_JetIdx, bjet2_JetIdx,\"\n",
    "            \"GenPart_pt, GenPart_eta, GenPart_phi, GenPart_mass, Jet_pt, Jet_eta, Jet_phi)\")\n",
    "    df_matched = df.Filter(\"matched == 1\")\n",
    "\n",
    "    df = df.Define(\"bjet1_pt_%s\" %mass, \"Jet_pt.at(bjet1_JetIdx)\")\n",
    "    df = df.Define(\"bjet2_pt_%s\" %mass, \"Jet_pt.at(bjet2_JetIdx)\")\n",
    "    df_matched = df_matched.Define(\"bjet1_pt_matched_%s\" %mass, \"Jet_pt.at(bjet1_JetIdx)\")\n",
    "    df_matched = df_matched.Define(\"bjet2_pt_matched_%s\" %mass, \"Jet_pt.at(bjet2_JetIdx)\")\n"
   ]
  },
  {
   "cell_type": "markdown",
   "metadata": {},
   "source": [
    "# Compute purity for HHBTag on ZZ samples (non-resonant and resonant)"
   ]
  },
  {
   "cell_type": "code",
   "execution_count": null,
   "metadata": {},
   "outputs": [],
   "source": [
    "mass_points = [ 200, 210, 220, 230, 240, 250, 260, 270, 280, 300, 320, 350, 360, 400, 450, 500, 550,\n",
    "                600, 650, 700, 750, 800, 850, 900, 1000, 1100, 1200, 1300, 1400, 1500, 1600, 1700,\n",
    "                1800, 1900, 2000, 2200, 2400, 2500, 2600, 2800, 3000, 3500, 4000, 4500, 5000]\n",
    "cfg = 'ul_2018_ZZ_v12'\n",
    "ver = 'prod_240305'\n",
    "sm_name = 'zz_sl_signal'\n",
    "res_name = 'GluGluToXToZZTo2B2Tau'\n",
    "cat = 'cat_base_selection'\n",
    "\n",
    "# /data_CMS/cms/vernazza/cmt/PreprocessRDF/ul_2018_ZZ_v12/GluGluToXToZZTo2B2Tau_M200/cat_base_selection/prod_240305/data_0.root\n",
    "\n",
    "odir = f'/data_CMS/cms/vernazza/FrameworkNanoAOD/hhbbtt-analysis/nicePlots/HHBTag/{cfg}/{ver}'\n",
    "print(\" ### INFO: Saving output in \", odir)\n",
    "os.system('mkdir -p ' + odir)"
   ]
  }
 ],
 "metadata": {
  "kernelspec": {
   "display_name": "MyRootEnv",
   "language": "python",
   "name": "python3"
  },
  "language_info": {
   "codemirror_mode": {
    "name": "ipython",
    "version": 3
   },
   "file_extension": ".py",
   "mimetype": "text/x-python",
   "name": "python",
   "nbconvert_exporter": "python",
   "pygments_lexer": "ipython3",
   "version": "3.11.4"
  }
 },
 "nbformat": 4,
 "nbformat_minor": 2
}
